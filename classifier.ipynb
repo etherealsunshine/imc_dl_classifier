{
 "cells": [
  {
   "cell_type": "code",
   "execution_count": null,
   "id": "f532abe9",
   "metadata": {},
   "outputs": [],
   "source": [
    "import torch \n",
    "x = torch.rand(5,3)\n",
    "print(x.shape)"
   ]
  }
 ],
 "metadata": {
  "kernelspec": {
   "display_name": ".venv",
   "language": "python",
   "name": "python3"
  },
  "language_info": {
   "name": "python",
   "version": "3.12.3"
  }
 },
 "nbformat": 4,
 "nbformat_minor": 5
}
