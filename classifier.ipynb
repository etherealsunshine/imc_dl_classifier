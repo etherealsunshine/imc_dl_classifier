{
 "cells": [
  {
   "cell_type": "code",
   "execution_count": null,
   "id": "46121bd7",
   "metadata": {},
   "outputs": [],
   "source": [
    "# Add these at the top of your notebook cell\n",
    "import matplotlib\n",
    "matplotlib.use('inline')  # or 'Agg'\n",
    "import matplotlib.pyplot as plt\n",
    "plt.ion()  # Turn on interactive mode\n",
    "\n",
    "# Also add this to force display\n",
    "%matplotlib inline\n",
    "import torchvision.transforms.v2 as T"
   ]
  },
  {
   "cell_type": "code",
   "execution_count": null,
   "id": "83b5646b",
   "metadata": {},
   "outputs": [],
   "source": [
    "def get_imc_transforms(image_size=(256, 256)):\n",
    "    train_transform = T.Compose([\n",
    "        T.RandomHorizontalFlip(),\n",
    "        T.RandomVerticalFlip(),\n",
    "       T.RandomRotation(degrees=(-90, 90)),\n",
    "        T.RandomAffine(degrees=10,translate=(0.05, 0.05)),\n",
    "        T.Resize(image_size, antialias=True),\n",
    "    ])\n",
    "    val_transform = T.Compose([\n",
    "        T.Resize(image_size, antialias=True),\n",
    "    ])\n",
    "    return train_transform, val_transform"
   ]
  },
  {
   "cell_type": "code",
   "execution_count": null,
   "id": "f532abe9",
   "metadata": {},
   "outputs": [],
   "source": [
    "import torch\n",
    "from torch.utils.data import Dataset, DataLoader\n",
    "import numpy as np\n",
    "import pandas as pd\n",
    "from pathlib import Path\n",
    "import tifffile\n",
    "from typing import Tuple, Optional, List, Dict\n",
    "import logging\n",
    "import re\n",
    "\n",
    "class IMCDataset(Dataset):\n",
    "    \"\"\"Dataset for IMC (Imaging Mass Cytometry) data for tissue type and condition prediction\"\"\"\n",
    "    \n",
    "    def __init__(\n",
    "        self,\n",
    "        data_dir: str,\n",
    "        transform=None,\n",
    "        target_transform=None,\n",
    "        use_mask: bool = False,\n",
    "        channels: Optional[List[int]] = None,\n",
    "        image_size: Optional[Tuple[int, int]] = None,\n",
    "        normalize: bool = True,\n",
    "        arcsinh_transform: bool = True,\n",
    "        cofactor: float = 5.0,\n",
    "        classification_task: str = \"condition\",  # \"condition\" (Benign vs Malignant) - \"tissue\" and \"both\" removed since we only have prostate data\n",
    "        split: str = \"train\"\n",
    "    ):\n",
    "        \"\"\"\n",
    "        Args:\n",
    "            data_dir: Directory containing ROI folders\n",
    "            transform: Optional transform to be applied on images\n",
    "            target_transform: Optional transform to be applied on labels\n",
    "            use_mask: Whether to use the mask.tiff files\n",
    "            channels: List of channel indices to use (if None, uses all)\n",
    "            image_size: Size to resize images to (height, width)\n",
    "            normalize: Whether to normalize channels\n",
    "            arcsinh_transform: Whether to apply arcsinh transformation\n",
    "            cofactor: Cofactor for arcsinh transformation\n",
    "            classification_task: What to predict - \"tissue\", \"condition\", or \"both\"\n",
    "        \"\"\"\n",
    "        self.data_dir = Path(data_dir)\n",
    "        self.transform = transform\n",
    "        self.target_transform = target_transform\n",
    "        self.use_mask = use_mask\n",
    "        self.channels = channels\n",
    "        self.image_size = image_size\n",
    "        self.normalize = normalize\n",
    "        self.arcsinh_transform = arcsinh_transform\n",
    "        self.cofactor = cofactor\n",
    "        self.classification_task = classification_task\n",
    "        \n",
    "        # Scan directory and parse folder names\n",
    "        self.samples = self._scan_directory()\n",
    "        \n",
    "        # Create label mappings based on classification task\n",
    "        self._create_label_mappings()\n",
    "        \n",
    "        logging.info(f\"Loaded {len(self.samples)} samples\")\n",
    "        logging.info(f\"Classification task: {self.classification_task}\")\n",
    "        logging.info(f\"Labels: {self.unique_labels}\")\n",
    "\n",
    "        # Set transforms if not provided\n",
    "        if transform is None and image_size is not None:\n",
    "            train_transform, val_transform = get_imc_transforms(image_size)\n",
    "            self.transform = train_transform if split == \"train\" else val_transform\n",
    "        else:\n",
    "            self.transform = transform\n",
    "        \n",
    "    def _scan_directory(self):\n",
    "        \"\"\"Scan directory for ROI folders and parse information\"\"\"\n",
    "        samples = []\n",
    "        \n",
    "        for roi_folder in self.data_dir.glob(\"ROI*\"):\n",
    "            if not roi_folder.is_dir():\n",
    "                continue\n",
    "                \n",
    "            # Parse folder name: ROI###_TISSUE_[Benign_]TMA###[N]\n",
    "            folder_name = roi_folder.name\n",
    "            \n",
    "            # Extract ROI number\n",
    "            roi_match = re.match(r\"ROI(\\d+)\", folder_name)\n",
    "            if not roi_match:\n",
    "                continue\n",
    "            roi_num = int(roi_match.group(1))\n",
    "            \n",
    "            # Extract tissue type\n",
    "            parts = folder_name.split('_')\n",
    "            if len(parts) < 3:\n",
    "                continue\n",
    "            tissue = parts[1]  # PROSTATE, LIVER, KIDNEY\n",
    "            \n",
    "            # Determine if benign or malignant\n",
    "            if \"Benign\" in folder_name:\n",
    "                condition = \"Benign\"\n",
    "            else:\n",
    "                condition = \"Malignant\"\n",
    "            \n",
    "            # Check if image files exist\n",
    "            imc_path = roi_folder / \"input\" / \"imc\"\n",
    "            if not imc_path.exists():\n",
    "                continue\n",
    "                \n",
    "            # Look for .ome.tiff file\n",
    "            ome_files = list(imc_path.glob(\"*.ome.tiff\"))\n",
    "            if not ome_files:\n",
    "                continue\n",
    "            image_file = ome_files[0]\n",
    "            \n",
    "            # Look for mask file if needed\n",
    "            mask_file = None\n",
    "            if self.use_mask:\n",
    "                mask_files = list(imc_path.glob(\"*_mask.tiff\"))\n",
    "                if mask_files:\n",
    "                    mask_file = mask_files[0]\n",
    "            \n",
    "            samples.append({\n",
    "                'roi_num': roi_num,\n",
    "                'tissue': tissue,\n",
    "                'condition': condition,\n",
    "                'folder_name': folder_name,\n",
    "                'image_path': image_file,\n",
    "                'mask_path': mask_file,\n",
    "                'roi_folder': roi_folder\n",
    "            })\n",
    "        \n",
    "        return samples\n",
    "    \n",
    "    def _create_label_mappings(self):\n",
    "        \"\"\"Create label mappings based on classification task\"\"\"\n",
    "        if self.classification_task == \"tissue\":\n",
    "            labels = [sample['tissue'] for sample in self.samples]\n",
    "        elif self.classification_task == \"condition\":\n",
    "            labels = [sample['condition'] for sample in self.samples]\n",
    "        elif self.classification_task == \"both\":\n",
    "            labels = [f\"{sample['tissue']}_{sample['condition']}\" for sample in self.samples]\n",
    "        else:\n",
    "            raise ValueError(\"classification_task must be 'tissue', 'condition', or 'both'\")\n",
    "        \n",
    "        self.unique_labels = sorted(list(set(labels)))\n",
    "        self.label_to_idx = {label: idx for idx, label in enumerate(self.unique_labels)}\n",
    "        self.idx_to_label = {idx: label for label, idx in self.label_to_idx.items()}\n",
    "        \n",
    "    def __len__(self):\n",
    "        return len(self.samples)\n",
    "    \n",
    "    def __getitem__(self, idx):\n",
    "        sample = self.samples[idx]\n",
    "        \n",
    "        # Load image\n",
    "        image = self._load_image(sample['image_path'])\n",
    "        \n",
    "        # Load mask if needed\n",
    "        mask = None\n",
    "        if self.use_mask and sample['mask_path']:\n",
    "            mask = self._load_mask(sample['mask_path'])\n",
    "        \n",
    "        # Get label based on classification task\n",
    "        if self.classification_task == \"tissue\":\n",
    "            label = sample['tissue']\n",
    "        elif self.classification_task == \"condition\":\n",
    "            label = sample['condition']\n",
    "        elif self.classification_task == \"both\":\n",
    "            label = f\"{sample['tissue']}_{sample['condition']}\"\n",
    "        \n",
    "        label_idx = self.label_to_idx[label]\n",
    "        \n",
    "        # Apply transforms\n",
    "        if self.transform:\n",
    "            print(\" Applying transform\")\n",
    "            image = self.transform(image)\n",
    "        \n",
    "        if self.target_transform:\n",
    "            label_idx = self.target_transform(label_idx)\n",
    "        \n",
    "        if mask is not None:\n",
    "            return image, label_idx, mask\n",
    "        else:\n",
    "            return image, label_idx\n",
    "    \n",
    "    def _load_image(self, img_path: Path) -> torch.Tensor:\n",
    "        \"\"\"Load and preprocess IMC image\"\"\"\n",
    "        # Load OME-TIFF image\n",
    "        img = tifffile.imread(str(img_path))\n",
    "        \n",
    "        # Ensure image is float32\n",
    "        img = img.astype(np.float32)\n",
    "        \n",
    "        # Handle different image shapes\n",
    "        if img.ndim == 2:\n",
    "            # Single channel image\n",
    "            img = img[np.newaxis, ...]  # Add channel dimension\n",
    "        elif img.ndim == 3:\n",
    "            # Multi-channel image - OME-TIFF usually has channels first\n",
    "            # If channels are last, transpose\n",
    "            if img.shape[2] < img.shape[0]:\n",
    "                img = np.transpose(img, (2, 0, 1))\n",
    "        \n",
    "        # Select specific channels if specified\n",
    "        if self.channels is not None:\n",
    "            img = img[self.channels]\n",
    "        \n",
    "        # Apply arcsinh transformation (common for mass cytometry data)\n",
    "        if self.arcsinh_transform:\n",
    "            img = np.arcsinh(img / self.cofactor)\n",
    "        \n",
    "        # Normalize each channel\n",
    "        if self.normalize:\n",
    "            for c in range(img.shape[0]):\n",
    "                channel = img[c]\n",
    "                if channel.std() > 0:\n",
    "                    img[c] = (channel - channel.mean()) / channel.std()\n",
    "        \n",
    "        # Resize if needed\n",
    "        if self.image_size is not None and self.image_size != img.shape[1:]:\n",
    "            img = torch.nn.functional.interpolate(\n",
    "                torch.from_numpy(img).unsqueeze(0),\n",
    "                size=self.image_size,\n",
    "                mode='bilinear',\n",
    "                align_corners=False\n",
    "            ).squeeze(0).numpy()\n",
    "        \n",
    "        return torch.from_numpy(img)\n",
    "    \n",
    "    def _load_mask(self, mask_path: Path) -> torch.Tensor:\n",
    "        \"\"\"Load segmentation mask\"\"\"\n",
    "        mask = tifffile.imread(str(mask_path))\n",
    "        return torch.from_numpy(mask.astype(np.int64))\n",
    "    \n",
    "    def get_class_weights(self):\n",
    "        \"\"\"Calculate class weights for imbalanced datasets\"\"\"\n",
    "        if self.classification_task == \"tissue\":\n",
    "            labels = [sample['tissue'] for sample in self.samples]\n",
    "        elif self.classification_task == \"condition\":\n",
    "            labels = [sample['condition'] for sample in self.samples]\n",
    "        elif self.classification_task == \"both\":\n",
    "            labels = [f\"{sample['tissue']}_{sample['condition']}\" for sample in self.samples]\n",
    "        \n",
    "        from collections import Counter\n",
    "        label_counts = Counter(labels)\n",
    "        total_samples = len(self.samples)\n",
    "        \n",
    "        weights = []\n",
    "        for label in self.unique_labels:\n",
    "            weight = total_samples / (len(self.unique_labels) * label_counts[label])\n",
    "            weights.append(weight)\n",
    "        \n",
    "        return torch.FloatTensor(weights)\n",
    "\n",
    "\n",
    "def create_dataloaders(\n",
    "    data_dir: str,\n",
    "    train_split: float = 0.8,\n",
    "    batch_size: int = 32,\n",
    "    num_workers: int = 4,\n",
    "    pin_memory: bool = True,\n",
    "    random_seed: int = 42,\n",
    "    **dataset_kwargs\n",
    ") -> Tuple[DataLoader, DataLoader, Dict]:\n",
    "    \"\"\"Create training and validation dataloaders from a single directory\"\"\"\n",
    "    \n",
    "    # Create full dataset\n",
    "    full_dataset = IMCDataset(\n",
    "        data_dir=data_dir,\n",
    "        **dataset_kwargs\n",
    "    )\n",
    "    \n",
    "    # Check if we have any samples left after filtering\n",
    "    if len(full_dataset) == 0:\n",
    "        raise ValueError(\"No valid samples found after filtering single-sample classes\")\n",
    "    \n",
    "    # For condition classification with filtered data, we can do stratified split\n",
    "    try:\n",
    "        from sklearn.model_selection import train_test_split\n",
    "        \n",
    "        # Get labels for stratification\n",
    "        if full_dataset.classification_task == \"tissue\":\n",
    "            labels = [sample['tissue'] for sample in full_dataset.samples]\n",
    "        elif full_dataset.classification_task == \"condition\":\n",
    "            labels = [sample['condition'] for sample in full_dataset.samples]\n",
    "        else:\n",
    "            labels = [f\"{sample['tissue']}_{sample['condition']}\" for sample in full_dataset.samples]\n",
    "        \n",
    "        # Try stratified split\n",
    "        indices = list(range(len(full_dataset)))\n",
    "        train_idx, val_idx = train_test_split(\n",
    "            indices, \n",
    "            train_size=train_split,\n",
    "            stratify=labels,\n",
    "            random_state=random_seed\n",
    "        )\n",
    "        \n",
    "        train_dataset = torch.utils.data.Subset(full_dataset, train_idx)\n",
    "        val_dataset = torch.utils.data.Subset(full_dataset, val_idx)\n",
    "        \n",
    "        print(\"✅ Using stratified split (ensures each class in both train/val)\")\n",
    "        \n",
    "    except (ImportError, ValueError) as e:\n",
    "        # Fall back to random split if sklearn not available or stratification fails\n",
    "        print(f\"⚠️ Stratified split failed ({e}), using random split\")\n",
    "        torch.manual_seed(random_seed)\n",
    "        train_size = int(train_split * len(full_dataset))\n",
    "        val_size = len(full_dataset) - train_size\n",
    "        \n",
    "        # Stratified split\n",
    "        train_dataset = torch.utils.data.Subset(\n",
    "            IMCDataset(data_dir=data_dir, split=\"train\", **dataset_kwargs), train_idx\n",
    "        )\n",
    "        val_dataset = torch.utils.data.Subset(\n",
    "            IMCDataset(data_dir=data_dir, split=\"val\", **dataset_kwargs), val_idx\n",
    "        )\n",
    "\n",
    "    \n",
    "    # Create dataloaders\n",
    "    train_loader = DataLoader(\n",
    "        train_dataset,\n",
    "        batch_size=batch_size,\n",
    "        shuffle=True,\n",
    "        num_workers=num_workers,\n",
    "        pin_memory=pin_memory,\n",
    "        drop_last=True\n",
    "    )\n",
    "    \n",
    "    val_loader = DataLoader(\n",
    "        val_dataset,\n",
    "        batch_size=batch_size,\n",
    "        shuffle=False,\n",
    "        num_workers=num_workers,\n",
    "        pin_memory=pin_memory,\n",
    "        drop_last=False\n",
    "    )\n",
    "    \n",
    "    # Get dataset info\n",
    "    dataset_info = {\n",
    "        'num_classes': len(full_dataset.unique_labels),\n",
    "        'class_names': full_dataset.unique_labels,\n",
    "        'class_weights': full_dataset.get_class_weights(),\n",
    "        'train_size': len(train_dataset),\n",
    "        'val_size': len(val_dataset),\n",
    "        'total_samples': len(full_dataset),\n",
    "        'classification_task': full_dataset.classification_task\n",
    "    }\n",
    "    \n",
    "    # Print summary\n",
    "    print(f\"📊 Dataset Summary:\")\n",
    "    print(f\"   Classification task: {dataset_info['classification_task']}\")\n",
    "    print(f\"   Classes: {dataset_info['class_names']}\")\n",
    "    print(f\"   Total samples: {dataset_info['total_samples']}\")\n",
    "    print(f\"   Train samples: {dataset_info['train_size']}\")\n",
    "    print(f\"   Val samples: {dataset_info['val_size']}\")\n",
    "    \n",
    "    return train_loader, val_loader, dataset_info\n",
    "\n",
    "\n",
    "# Example usage\n",
    "if __name__ == \"__main__\":\n",
    "    # Simplified example for prostate cancer classification\n",
    "    train_loader, val_loader, dataset_info = create_dataloaders(\n",
    "        data_dir=\"./data\",  # Your symlinked data directory\n",
    "        classification_task=\"condition\",  # Benign vs Malignant (recommended)\n",
    "        batch_size=16,\n",
    "        use_mask=False,  # Set to True if you want to use segmentation masks\n",
    "        channels=None,  # Use all channels, or specify subset like [0, 5, 10]\n",
    "        image_size=(256, 256),  # Resize images\n",
    "        arcsinh_transform=True,\n",
    "        cofactor=5.0,\n",
    "        train_split=0.8\n",
    "    )\n",
    "    \n",
    "    print(f\"🎯 Prostate Cancer Classification Setup\")\n",
    "    print(f\"Classes: {dataset_info['class_names']}\")  # Should be ['Benign', 'Malignant']\n",
    "    print(f\"Train samples: {dataset_info['train_size']}\")\n",
    "    print(f\"Val samples: {dataset_info['val_size']}\")\n",
    "    \n",
    "    # Test the dataloader\n",
    "    for batch_idx, (images, labels) in enumerate(train_loader):\n",
    "        print(f\"Batch {batch_idx}: Images shape: {images.shape}, Labels: {labels}\")\n",
    "        # Decode labels to see class names\n",
    "        label_names = [dataset_info['class_names'][label.item()] for label in labels]\n",
    "        print(f\"Label names: {label_names}\")\n",
    "        if batch_idx == 0:\n",
    "            break"
   ]
  },
  {
   "cell_type": "code",
   "execution_count": null,
   "id": "49cf8c14",
   "metadata": {},
   "outputs": [],
   "source": [
    "# Get one batch and visualize just one image\n",
    "for batch_idx, (images, labels) in enumerate(train_loader):\n",
    "    # Get first image\n",
    "    first_image = images[0]  # Shape: (62, 128, 128)\n",
    "    first_label = labels[0].item()\n",
    "    \n",
    "    print(f\"Image shape: {first_image.shape}\")\n",
    "    print(f\"Label: {first_label} ({dataset_info['class_names'][first_label]})\")\n",
    "    \n",
    "    # Show first 6 channels\n",
    "    fig, axes = plt.subplots(4, 3, figsize=(12, 8))\n",
    "    axes = axes.flatten()\n",
    "    \n",
    "    for i in range(12):\n",
    "        channel_data = first_image[i].numpy()\n",
    "        im = axes[i].imshow(channel_data, cmap='viridis')\n",
    "        axes[i].set_title(f'Channel {i}')\n",
    "        axes[i].set_xticks([])\n",
    "        axes[i].set_yticks([])\n",
    "    \n",
    "    plt.tight_layout()\n",
    "    plt.show()\n",
    "    break"
   ]
  },
  {
   "cell_type": "code",
   "execution_count": null,
   "id": "e3364e1c",
   "metadata": {},
   "outputs": [],
   "source": [
    "from sympy import Ge\n",
    "import torch\n",
    "import torch.nn as nn\n",
    "import torch.optim as optim\n",
    "import torchvision\n",
    "from torchvision.ops import DropBlock2d\n",
    "import torchvision.transforms as transforms\n",
    "import torchvision.datasets as dataset\n",
    "import torch.nn.functional as F\n",
    "import torchvision.models as models\n",
    "from typing import List, Tuple, Optional\n",
    "\n",
    "\n",
    "class EfficientNetMarkerEncoder(nn.Module):\n",
    "    \"\"\"EfficientNet-B3 based marker encoder for individual IMC marker channels\"\"\"\n",
    "    def __init__(self, feature_dim: int = 128, pretrained: bool = True, dropout_rate: float = 0.3):\n",
    "        super(EfficientNetMarkerEncoder, self).__init__()\n",
    "        self.feature_dim = feature_dim\n",
    "        \n",
    "        # Load the pretrained EfficientNet-B3 model\n",
    "        if pretrained:\n",
    "            weights = models.EfficientNet_B3_Weights.DEFAULT\n",
    "        else:\n",
    "            weights = None\n",
    "            \n",
    "        self.backbone = models.efficientnet_b3(weights=weights)\n",
    "        \n",
    "        # EfficientNet-B3 output features from the last layer before classifier\n",
    "        # EfficientNet classifier is a Sequential with a Dropout and Linear layer\n",
    "        backbone_out_features = self.backbone.classifier[1].in_features  # 1792 for EfficientNet-B4\n",
    "        \n",
    "        # Modify the first layer to accept a single channel input\n",
    "        original_first_conv = self.backbone.features[0][0]\n",
    "        self.backbone.features[0][0] = nn.Conv2d(\n",
    "            in_channels=1,\n",
    "            out_channels=original_first_conv.out_channels,\n",
    "            kernel_size=original_first_conv.kernel_size,\n",
    "            stride=original_first_conv.stride,\n",
    "            padding=original_first_conv.padding,\n",
    "            bias=False\n",
    "        )\n",
    "        \n",
    "        # Remove final classification layers but keep the avgpool and flatten\n",
    "        self.backbone.classifier = nn.Identity()\n",
    "        \n",
    "        # Store the avgpool and flatten operations explicitly\n",
    "        self.avgpool = nn.AdaptiveAvgPool2d(1)\n",
    "        self.flatten = nn.Flatten()\n",
    "\n",
    "        # Adding custom feature head\n",
    "        self.feature_head = nn.Sequential(\n",
    "            nn.LayerNorm(backbone_out_features),\n",
    "            nn.Linear(backbone_out_features, 512),\n",
    "            nn.GELU(),\n",
    "            nn.Dropout(dropout_rate),\n",
    "            nn.Linear(512, feature_dim),\n",
    "            nn.GELU(),\n",
    "            nn.Dropout(dropout_rate)\n",
    "        )\n",
    "\n",
    "    def forward(self, x):\n",
    "        # x shape: [batch_size, 1, H, W]\n",
    "        # Extract features from backbone (before classifier)\n",
    "        features = self.backbone.features(x)  # [batch_size, 1792, H', W']\n",
    "        features = self.avgpool(features)  # [batch_size, 1792, 1, 1]\n",
    "        features = self.flatten(features)  # [batch_size, 1792]\n",
    "        features = self.feature_head(features)\n",
    "        return features\n",
    "\n",
    "\n",
    "class SimpleFusionHead(nn.Module):\n",
    "    \"\"\"Simple fusion head using average pooling instead of attention\"\"\"\n",
    "    def __init__(self, feature_dim=128, num_markers=62, num_classes=2, dropout_rate=0.5):\n",
    "        super(SimpleFusionHead, self).__init__()\n",
    "        self.feature_dim = feature_dim\n",
    "        self.num_markers = num_markers\n",
    "        self.num_classes = num_classes\n",
    "        \n",
    "        # Simple classifier with more dropout for regularization\n",
    "        self.classifier = nn.Sequential(\n",
    "            nn.LayerNorm(feature_dim),\n",
    "            nn.Dropout(dropout_rate),\n",
    "            nn.Linear(feature_dim, 256),\n",
    "            nn.GELU(),                        \n",
    "            nn.Dropout(dropout_rate),\n",
    "            nn.Linear(256, 64),\n",
    "            nn.GELU(),\n",
    "            nn.Dropout(dropout_rate),\n",
    "            nn.Linear(64, num_classes)\n",
    "        )\n",
    "\n",
    "    def forward(self, marker_features):\n",
    "        # marker_features = [batch_size, num_markers, feature_dim]\n",
    "        # Simple average pooling across markers\n",
    "        pooled_features = torch.mean(marker_features, dim=1)  # [batch_size, feature_dim]\n",
    "        \n",
    "        # Classification\n",
    "        logits = self.classifier(pooled_features)\n",
    "        \n",
    "        return {\n",
    "            'logits': logits,\n",
    "            'pooled_features': pooled_features\n",
    "        }\n",
    "\n",
    "\n",
    "class SimpleIMCClassifier(nn.Module):\n",
    "    \"\"\"Simplified IMC Classifier with EfficientNet-B3 backbone\"\"\"\n",
    "    def __init__(\n",
    "            self,\n",
    "            num_markers=62,\n",
    "            feature_dim=128,\n",
    "            num_classes=2,\n",
    "            pretrained=True,\n",
    "            dropout_rate=0.5,\n",
    "            shared_backbone=True\n",
    "    ):\n",
    "        super(SimpleIMCClassifier, self).__init__()\n",
    "        self.num_markers = num_markers\n",
    "        self.feature_dim = feature_dim\n",
    "        self.shared_backbone = shared_backbone\n",
    "\n",
    "        # Create the encoder\n",
    "        if shared_backbone:\n",
    "            self.marker_encoder = EfficientNetMarkerEncoder(\n",
    "                feature_dim=feature_dim,\n",
    "                pretrained=pretrained,\n",
    "                dropout_rate=dropout_rate\n",
    "            )\n",
    "            print(f\"Using EfficientNet-B3 backbone (pretrained={pretrained})\")\n",
    "        else:\n",
    "            # For separate backbones (not implemented)\n",
    "            pass\n",
    "        \n",
    "        # Simple Fusion head\n",
    "        self.fusion_head = SimpleFusionHead(\n",
    "            feature_dim=feature_dim,\n",
    "            num_markers=num_markers,\n",
    "            num_classes=num_classes,\n",
    "            dropout_rate=dropout_rate\n",
    "        )\n",
    "\n",
    "    def forward(self, imc_data):\n",
    "        # imc_data shape: [batch_size, num_markers, H, W]\n",
    "        batch_size, num_markers, H, W = imc_data.shape\n",
    "        assert num_markers == self.num_markers, f\"Expected {self.num_markers}, got {num_markers}\"\n",
    "        \n",
    "        # Extract features from each marker using EfficientNet-B3\n",
    "        marker_features = []\n",
    "        for i in range(num_markers):\n",
    "            # Get single marker data: [batch_size, 1, H, W]\n",
    "            marker_data = imc_data[:, i:i+1, :, :]\n",
    "            if self.shared_backbone:\n",
    "                features = self.marker_encoder(marker_data)\n",
    "            else:\n",
    "                pass  # Not implemented\n",
    "            marker_features.append(features)\n",
    "\n",
    "        # Stack features: [batch_size, num_markers, feature_dim]\n",
    "        marker_features = torch.stack(marker_features, dim=1)\n",
    "\n",
    "        # Fusion and classification\n",
    "        output = self.fusion_head(marker_features)\n",
    "        return output\n",
    "\n",
    "    def freeze_backbones(self):\n",
    "        \"\"\"Freeze EfficientNet-B3 backbones and only train Fusion Head\"\"\"\n",
    "        if self.shared_backbone:\n",
    "            for param in self.marker_encoder.backbone.parameters():\n",
    "                param.requires_grad = False\n",
    "        print(\"Frozen backbone - only training fusion head\")\n",
    "\n",
    "    def unfreeze_backbones(self):\n",
    "        \"\"\"Unfreeze EfficientNet-B3 backbone for fine tuning\"\"\"\n",
    "        if self.shared_backbone:\n",
    "            for param in self.marker_encoder.backbone.parameters():\n",
    "                param.requires_grad = True\n",
    "        print(\"Unfrozen EfficientNet-B3 backbones - training full model\")\n",
    "\n",
    "\n",
    "def create_simple_model(\n",
    "        num_markers=62,\n",
    "        num_classes=2,\n",
    "        feature_dim=128,\n",
    "        pretrained=True,\n",
    "        shared_backbone=True,\n",
    "        dropout_rate=0.5,\n",
    "        device='cuda' if torch.cuda.is_available() else 'mps'\n",
    "):\n",
    "    \"\"\"Create simplified model with EfficientNet-B3 backbone\"\"\"\n",
    "    if not shared_backbone:\n",
    "        print(f\"separate backbones not implemented, using shared\")\n",
    "        shared_backbone = True\n",
    "\n",
    "    model = SimpleIMCClassifier(\n",
    "        num_markers=num_markers,\n",
    "        num_classes=num_classes,\n",
    "        feature_dim=feature_dim,\n",
    "        pretrained=pretrained,\n",
    "        shared_backbone=shared_backbone,\n",
    "        dropout_rate=dropout_rate\n",
    "    )\n",
    "\n",
    "    model = model.to(device)\n",
    "\n",
    "    total_params = sum(p.numel() for p in model.parameters())\n",
    "    trainable_params = sum(p.numel() for p in model.parameters() if p.requires_grad)\n",
    "\n",
    "    print(\"Simple Model Summary\")\n",
    "    print(f\"Markers: {num_markers}, Backbone: EfficientNet-B3, pretrained: {pretrained}\")\n",
    "    print(f\"Feature_dim: {feature_dim}, classes: {num_classes}, device: {device}\")\n",
    "    print(f\"Dropout rate: {dropout_rate}\")\n",
    "    print(f\"Total parameters: {total_params:,}\")\n",
    "    print(f\"Trainable parameters: {trainable_params:,}\")\n",
    "    return model\n",
    "\n",
    "device = 'cuda' if torch.cuda.is_available() else 'mps'\n",
    "# Create simplified model\n",
    "model = create_simple_model(\n",
    "    num_markers=62,\n",
    "    num_classes=2,  # Update this based on your dataset_info\n",
    "    pretrained=True,\n",
    "    shared_backbone=True,\n",
    "    feature_dim=64,  # Reduced feature dimension\n",
    "    dropout_rate=0.6,  # Higher dropout for regularization\n",
    "    device=device\n",
    ")"
   ]
  },
  {
   "cell_type": "markdown",
   "id": "c013cc3b",
   "metadata": {},
   "source": [
    "## Training Script"
   ]
  },
  {
   "cell_type": "code",
   "execution_count": null,
   "id": "cfc5b183",
   "metadata": {},
   "outputs": [],
   "source": [
    "from pathlib import Path\n",
    "import torch\n",
    "import torch.nn as nn\n",
    "import torch.optim as optim\n",
    "from torch.cuda.amp import GradScaler, autocast\n",
    "from tqdm import tqdm\n",
    "from sklearn.metrics import accuracy_score, precision_recall_fscore_support\n",
    "import matplotlib.pyplot as plt\n",
    "import json\n",
    "\n",
    "class IMCTrainer:\n",
    "    def __init__(\n",
    "            self,\n",
    "            model,\n",
    "            train_loader,\n",
    "            val_loader,\n",
    "            dataset_info,\n",
    "            device='cuda' if torch.cuda.is_available() else 'mps',\n",
    "            learning_rate=1e-3,  # Fixed: was 1e3 (way too high!)\n",
    "            weight_decay=1e-3,   # Fixed: was 1e4 (way too high!)\n",
    "            use_class_weights=True,\n",
    "            use_mixed_precision=True,\n",
    "            save_dir='./checkpoints'\n",
    "    ):\n",
    "        self.model = model\n",
    "        self.train_loader = train_loader\n",
    "        self.val_loader = val_loader\n",
    "        self.dataset_info = dataset_info\n",
    "        self.device = device\n",
    "        self.save_dir = Path(save_dir)\n",
    "        self.save_dir.mkdir(exist_ok=True)\n",
    "        \n",
    "        # Loss function\n",
    "        if use_class_weights:\n",
    "            class_weights = dataset_info['class_weights'].to(device)\n",
    "            self.criterion = nn.CrossEntropyLoss(weight=class_weights)\n",
    "            print(f\"Using class weights {class_weights}\")\n",
    "        else:\n",
    "            self.criterion = nn.CrossEntropyLoss()\n",
    "\n",
    "        # Optimizer\n",
    "        self.optimizer = optim.AdamW(\n",
    "            model.parameters(),\n",
    "            lr=learning_rate,\n",
    "            weight_decay=weight_decay\n",
    "        )\n",
    "        \n",
    "        # Learning rate scheduler\n",
    "        self.scheduler = optim.lr_scheduler.ReduceLROnPlateau(\n",
    "            self.optimizer,\n",
    "            mode='min',\n",
    "            factor=0.5,\n",
    "            patience=3,  # Reduced patience for simple model\n",
    "           \n",
    "        )\n",
    "        \n",
    "        # Mixed precision training for memory efficiency\n",
    "        self.use_mixed_precision = use_mixed_precision\n",
    "        if use_mixed_precision:\n",
    "            self.scaler = GradScaler()\n",
    "            print(\"Using mixed precision training\") \n",
    "        \n",
    "        # Training history\n",
    "        self.history = {\n",
    "            'train_loss': [],\n",
    "            'val_loss': [],\n",
    "            'train_acc': [],\n",
    "            'val_acc': [],\n",
    "            'learning_rates': []\n",
    "        }\n",
    "        self.best_val_acc = 0.0\n",
    "        self.best_model_path = None\n",
    "\n",
    "    def train_epoch(self):\n",
    "        \"\"\"Train for one epoch\"\"\"\n",
    "        self.model.train()\n",
    "        running_loss = 0.0  # Fixed: Initialize running_loss\n",
    "        all_preds = []\n",
    "        all_labels = []\n",
    "        \n",
    "        pbar = tqdm(self.train_loader, desc=\"Training\")\n",
    "        for batch_idx, (images, labels) in enumerate(pbar):\n",
    "            images, labels = images.to(self.device), labels.to(self.device)\n",
    "            self.optimizer.zero_grad()\n",
    "        \n",
    "            if self.use_mixed_precision:\n",
    "                with torch.amp.autocast(\"cuda\"):  \n",
    "                    output = self.model(images)\n",
    "                    loss = self.criterion(output['logits'], labels)\n",
    "\n",
    "                self.scaler.scale(loss).backward()\n",
    "                self.scaler.step(self.optimizer)\n",
    "                self.scaler.update()\n",
    "            else:\n",
    "                output = self.model(images)\n",
    "                loss = self.criterion(output['logits'], labels)\n",
    "                loss.backward()\n",
    "                self.optimizer.step()\n",
    "            \n",
    "            running_loss += loss.item()\n",
    "\n",
    "            # Calculate predictions\n",
    "            _, preds = torch.max(output['logits'], 1)\n",
    "            all_preds.extend(preds.cpu().numpy())\n",
    "            all_labels.extend(labels.cpu().numpy())\n",
    "\n",
    "            # Update progress bar\n",
    "            pbar.set_postfix({\n",
    "                'Loss': f\"{loss.item():.4f}\",\n",
    "                'Acc': f\"{accuracy_score(all_labels, all_preds):.4f}\"\n",
    "            })\n",
    "            \n",
    "        epoch_loss = running_loss / len(self.train_loader)\n",
    "        epoch_acc = accuracy_score(all_labels, all_preds)\n",
    "        return epoch_loss, epoch_acc\n",
    "\n",
    "    def validate_epoch(self):\n",
    "        \"\"\"Validate for one epoch\"\"\"\n",
    "        self.model.eval()\n",
    "        running_loss = 0.0\n",
    "        all_preds = []\n",
    "        all_labels = []\n",
    "        \n",
    "        with torch.no_grad():\n",
    "            pbar = tqdm(self.val_loader, desc=\"Validation\")\n",
    "            for images, labels in pbar:\n",
    "                images, labels = images.to(self.device), labels.to(self.device)\n",
    "                \n",
    "                if self.use_mixed_precision:\n",
    "                    with torch.amp.autocast(\"cuda\"):\n",
    "                        output = self.model(images)\n",
    "                        loss = self.criterion(output['logits'], labels)\n",
    "                else:\n",
    "                    output = self.model(images)\n",
    "                    loss = self.criterion(output['logits'], labels)\n",
    "                \n",
    "                running_loss += loss.item()\n",
    "                \n",
    "                # Calculate predictions\n",
    "                _, preds = torch.max(output['logits'], 1)\n",
    "                all_preds.extend(preds.cpu().numpy())\n",
    "                all_labels.extend(labels.cpu().numpy())\n",
    "                \n",
    "                pbar.set_postfix({'Loss': f\"{loss.item():.4f}\"})\n",
    "        \n",
    "        epoch_loss = running_loss / len(self.val_loader)\n",
    "        epoch_acc = accuracy_score(all_labels, all_preds)\n",
    "        \n",
    "        # Calculate detailed metrics\n",
    "        precision, recall, f1, _ = precision_recall_fscore_support(\n",
    "            all_labels, all_preds, average='weighted'\n",
    "        )\n",
    "        \n",
    "        return {\n",
    "            'loss': epoch_loss,\n",
    "            'accuracy': epoch_acc,\n",
    "            'precision': precision,\n",
    "            'recall': recall,\n",
    "            'f1': f1,\n",
    "            'predictions': all_preds,\n",
    "            'labels': all_labels\n",
    "            # Removed marker_importance since simple model doesn't have it\n",
    "        }\n",
    "    \n",
    "    def train(self, num_epochs=50, freeze_backbone_epochs=5):\n",
    "        \"\"\"Full training loop\"\"\"\n",
    "        print(f\"Starting training for {num_epochs} epochs\")\n",
    "        print(f\"First {freeze_backbone_epochs} epochs with frozen backbone\")\n",
    "\n",
    "        # Phase 1: Training only the fusion head with frozen backbone\n",
    "        if freeze_backbone_epochs > 0:\n",
    "            print(f\"Training fusion head only {freeze_backbone_epochs} epochs\")\n",
    "            self.model.freeze_backbones()  # Fixed method name\n",
    "\n",
    "            for epoch in range(freeze_backbone_epochs):\n",
    "                print(f\"\\nEpoch {epoch+1}/{freeze_backbone_epochs}\")\n",
    "\n",
    "                # Train \n",
    "                train_loss, train_acc = self.train_epoch()\n",
    "\n",
    "                # Validate\n",
    "                val_results = self.validate_epoch()\n",
    "\n",
    "                # Update history\n",
    "                self.history['train_loss'].append(train_loss)\n",
    "                self.history['val_loss'].append(val_results['loss'])\n",
    "                self.history['train_acc'].append(train_acc)\n",
    "                self.history['val_acc'].append(val_results['accuracy'])\n",
    "                self.history['learning_rates'].append(self.optimizer.param_groups[0]['lr'])\n",
    "\n",
    "                print(f\"Train Loss: {train_loss:.4f}, Train Acc: {train_acc:.4f}\")\n",
    "                print(f\"Val Loss: {val_results['loss']:.4f}, Val Acc: {val_results['accuracy']:.4f}\")\n",
    "                print(f\"Val F1: {val_results['f1']:.4f}\")\n",
    "             \n",
    "                # Save best model\n",
    "                if val_results['accuracy'] > self.best_val_acc:\n",
    "                    self.best_val_acc = val_results['accuracy']\n",
    "                    self.save_checkpoint(epoch, f\"best_frozen_epoch_{epoch+1}.pth\", val_results)\n",
    "             \n",
    "                # Learning rate scheduling\n",
    "                self.scheduler.step(val_results['loss'])\n",
    "\n",
    "        # Phase 2: Unfreeze and fine tune complete model\n",
    "        remaining_epochs = num_epochs - freeze_backbone_epochs\n",
    "        if remaining_epochs > 0:\n",
    "            print(f\"Phase 2: fine tuning entire model ({remaining_epochs} epochs)\")\n",
    "            self.model.unfreeze_backbones()\n",
    "\n",
    "            # Reduce lr for fine tuning\n",
    "            for param_group in self.optimizer.param_groups:\n",
    "                param_group['lr'] *= 0.1\n",
    "            print(f\"🔽 Reduced learning rate to {self.optimizer.param_groups[0]['lr']}\")\n",
    "            \n",
    "            for epoch in range(freeze_backbone_epochs, num_epochs):\n",
    "                print(f\"\\nEpoch {epoch+1}/{num_epochs}\")\n",
    "                \n",
    "                # Train\n",
    "                train_loss, train_acc = self.train_epoch()\n",
    "                \n",
    "                # Validate\n",
    "                val_results = self.validate_epoch()\n",
    "                \n",
    "                # Update history\n",
    "                self.history['train_loss'].append(train_loss)\n",
    "                self.history['val_loss'].append(val_results['loss'])\n",
    "                self.history['train_acc'].append(train_acc)\n",
    "                self.history['val_acc'].append(val_results['accuracy'])\n",
    "                self.history['learning_rates'].append(self.optimizer.param_groups[0]['lr'])\n",
    "                \n",
    "                print(f\"Train Loss: {train_loss:.4f}, Train Acc: {train_acc:.4f}\")\n",
    "                print(f\"Val Loss: {val_results['loss']:.4f}, Val Acc: {val_results['accuracy']:.4f}\")\n",
    "                print(f\"Val F1: {val_results['f1']:.4f}\")\n",
    "                \n",
    "                # Save best model\n",
    "                if val_results['accuracy'] > self.best_val_acc:\n",
    "                    self.best_val_acc = val_results['accuracy']\n",
    "                    self.save_checkpoint(epoch, f\"best_finetuned_epoch_{epoch+1}.pth\", val_results)\n",
    "                \n",
    "                # Learning rate scheduling\n",
    "                self.scheduler.step(val_results['loss'])\n",
    "                \n",
    "                # Early stopping check\n",
    "                if self.optimizer.param_groups[0]['lr'] < 1e-7:\n",
    "                    print(\"💤 Learning rate too small, stopping training\")\n",
    "                    break\n",
    "                \n",
    "        print(f\"Training completed! Best validation accuracy: {self.best_val_acc:.4f}\")\n",
    "        return self.history\n",
    "    \n",
    "    def save_checkpoint(self, epoch, filename, val_results=None):\n",
    "        \"\"\"Save model checkpoint\"\"\"\n",
    "        checkpoint = {\n",
    "            'epoch': epoch,\n",
    "            'model_state_dict': self.model.state_dict(),\n",
    "            'optimizer_state_dict': self.optimizer.state_dict(),\n",
    "            'scheduler_state_dict': self.scheduler.state_dict(),\n",
    "            'best_val_acc': self.best_val_acc,\n",
    "            'history': self.history,\n",
    "            'dataset_info': self.dataset_info\n",
    "        }\n",
    "        \n",
    "        if val_results:\n",
    "            checkpoint['val_results'] = val_results\n",
    "        \n",
    "        checkpoint_path = self.save_dir / filename\n",
    "        torch.save(checkpoint, checkpoint_path)\n",
    "        self.best_model_path = checkpoint_path\n",
    "        print(f\"💾 Saved checkpoint: {checkpoint_path}\")\n",
    "    \n",
    "    def plot_training_history(self):\n",
    "        \"\"\"Plot training curves\"\"\"\n",
    "        fig, ((ax1, ax2), (ax3, ax4)) = plt.subplots(2, 2, figsize=(15, 10))\n",
    "        \n",
    "        epochs = range(1, len(self.history['train_loss']) + 1)\n",
    "        \n",
    "        # Loss curves\n",
    "        ax1.plot(epochs, self.history['train_loss'], 'b-', label='Training Loss')\n",
    "        ax1.plot(epochs, self.history['val_loss'], 'r-', label='Validation Loss')\n",
    "        ax1.set_title('Training and Validation Loss')\n",
    "        ax1.set_xlabel('Epoch')\n",
    "        ax1.set_ylabel('Loss')\n",
    "        ax1.legend()\n",
    "        ax1.grid(True)\n",
    "        \n",
    "        # Accuracy curves\n",
    "        ax2.plot(epochs, self.history['train_acc'], 'b-', label='Training Accuracy')\n",
    "        ax2.plot(epochs, self.history['val_acc'], 'r-', label='Validation Accuracy')\n",
    "        ax2.set_title('Training and Validation Accuracy')\n",
    "        ax2.set_xlabel('Epoch')\n",
    "        ax2.set_ylabel('Accuracy')\n",
    "        ax2.legend()\n",
    "        ax2.grid(True)\n",
    "        \n",
    "        # Learning rate\n",
    "        ax3.plot(epochs, self.history['learning_rates'], 'g-')\n",
    "        ax3.set_title('Learning Rate Schedule')\n",
    "        ax3.set_xlabel('Epoch')\n",
    "        ax3.set_ylabel('Learning Rate')\n",
    "        ax3.set_yscale('log')\n",
    "        ax3.grid(True)\n",
    "        \n",
    "        # Best accuracy line\n",
    "        ax4.axhline(y=self.best_val_acc, color='r', linestyle='--', \n",
    "                   label=f'Best Val Acc: {self.best_val_acc:.4f}')\n",
    "        ax4.plot(epochs, self.history['val_acc'], 'b-', alpha=0.7)\n",
    "        ax4.set_title('Best Validation Accuracy')\n",
    "        ax4.set_xlabel('Epoch')\n",
    "        ax4.set_ylabel('Accuracy')\n",
    "        ax4.legend()\n",
    "        ax4.grid(True)\n",
    "        \n",
    "        plt.tight_layout()\n",
    "        plt.savefig(self.save_dir / 'training_history.png', dpi=300, bbox_inches='tight')\n",
    "        plt.show()"
   ]
  },
  {
   "cell_type": "code",
   "execution_count": 25,
   "id": "58a46901",
   "metadata": {},
   "outputs": [
    {
     "name": "stderr",
     "output_type": "stream",
     "text": [
      "Training:  38%|███▊      | 6/16 [29:11<49:11, 295.13s/it, Loss=0.2146, Acc=0.9444]"
     ]
    },
    {
     "name": "stdout",
     "output_type": "stream",
     "text": [
      " Applying transform\n",
      " Applying transform\n",
      " Applying transform\n"
     ]
    },
    {
     "name": "stderr",
     "output_type": "stream",
     "text": [
      "Training:  44%|████▍     | 7/16 [34:26<45:14, 301.66s/it, Loss=0.9277, Acc=0.9048]"
     ]
    },
    {
     "name": "stdout",
     "output_type": "stream",
     "text": [
      " Applying transform\n",
      " Applying transform\n",
      " Applying transform\n"
     ]
    },
    {
     "name": "stderr",
     "output_type": "stream",
     "text": [
      "Training: 100%|██████████| 16/16 [1:22:00<00:00, 307.52s/it, Loss=0.2508, Acc=0.8542]\n",
      "Validation:   0%|          | 0/5 [00:00<?, ?it/s]"
     ]
    },
    {
     "name": "stdout",
     "output_type": "stream",
     "text": [
      " Applying transform\n",
      " Applying transform\n",
      " Applying transform\n",
      " Applying transform\n",
      " Applying transform\n",
      " Applying transform\n",
      " Applying transform\n",
      " Applying transform\n",
      " Applying transform\n",
      " Applying transform\n",
      " Applying transform\n",
      " Applying transform\n",
      " Applying transform\n"
     ]
    },
    {
     "name": "stderr",
     "output_type": "stream",
     "text": [
      "Validation: 100%|██████████| 5/5 [06:14<00:00, 74.84s/it, Loss=1.1025]\n",
      "/mnt/c/Users/Utkarsh/IMC_classifier/.venv/lib/python3.12/site-packages/sklearn/metrics/_classification.py:1706: UndefinedMetricWarning: Precision is ill-defined and being set to 0.0 in labels with no predicted samples. Use `zero_division` parameter to control this behavior.\n",
      "  _warn_prf(average, modifier, f\"{metric.capitalize()} is\", result.shape[0])\n"
     ]
    },
    {
     "name": "stdout",
     "output_type": "stream",
     "text": [
      "Train Loss: 0.6014, Train Acc: 0.8542\n",
      "Val Loss: 0.5753, Val Acc: 0.8462\n",
      "Val F1: 0.7756\n",
      "\n",
      "Epoch 12/50\n"
     ]
    },
    {
     "name": "stderr",
     "output_type": "stream",
     "text": [
      "Training:   0%|          | 0/16 [00:00<?, ?it/s]"
     ]
    },
    {
     "name": "stdout",
     "output_type": "stream",
     "text": [
      " Applying transform\n",
      " Applying transform\n",
      " Applying transform\n",
      " Applying transform\n",
      " Applying transform\n",
      " Applying transform\n",
      " Applying transform\n",
      " Applying transform\n",
      " Applying transform\n",
      " Applying transform\n",
      " Applying transform\n",
      " Applying transform\n",
      " Applying transform\n",
      " Applying transform\n",
      " Applying transform\n",
      " Applying transform\n",
      " Applying transform\n",
      " Applying transform\n",
      " Applying transform\n",
      " Applying transform\n",
      " Applying transform\n",
      " Applying transform\n",
      " Applying transform\n",
      " Applying transform\n",
      " Applying transform\n",
      " Applying transform\n",
      " Applying transform\n"
     ]
    },
    {
     "name": "stderr",
     "output_type": "stream",
     "text": [
      "Training:   6%|▋         | 1/16 [05:08<1:17:01, 308.13s/it, Loss=0.2530, Acc=1.0000]"
     ]
    },
    {
     "name": "stdout",
     "output_type": "stream",
     "text": [
      " Applying transform\n",
      " Applying transform\n",
      " Applying transform\n"
     ]
    },
    {
     "name": "stderr",
     "output_type": "stream",
     "text": [
      "Training:  12%|█▎        | 2/16 [11:09<1:19:11, 339.43s/it, Loss=1.1923, Acc=0.8333]"
     ]
    },
    {
     "name": "stdout",
     "output_type": "stream",
     "text": [
      " Applying transform\n",
      " Applying transform\n",
      " Applying transform\n"
     ]
    },
    {
     "name": "stderr",
     "output_type": "stream",
     "text": [
      "Training:  19%|█▉        | 3/16 [16:37<1:12:26, 334.32s/it, Loss=0.1698, Acc=0.8889]"
     ]
    },
    {
     "name": "stdout",
     "output_type": "stream",
     "text": [
      " Applying transform\n",
      " Applying transform\n",
      " Applying transform\n"
     ]
    },
    {
     "name": "stderr",
     "output_type": "stream",
     "text": [
      "Training:  25%|██▌       | 4/16 [21:39<1:04:15, 321.32s/it, Loss=0.2743, Acc=0.9167]"
     ]
    },
    {
     "name": "stdout",
     "output_type": "stream",
     "text": [
      " Applying transform\n",
      " Applying transform\n",
      " Applying transform\n"
     ]
    },
    {
     "name": "stderr",
     "output_type": "stream",
     "text": [
      "Training:  31%|███▏      | 5/16 [25:40<53:35, 292.36s/it, Loss=1.0104, Acc=0.8667]  "
     ]
    },
    {
     "name": "stdout",
     "output_type": "stream",
     "text": [
      " Applying transform\n",
      " Applying transform\n",
      " Applying transform\n"
     ]
    },
    {
     "name": "stderr",
     "output_type": "stream",
     "text": [
      "Training:  38%|███▊      | 6/16 [31:03<50:30, 303.05s/it, Loss=0.3517, Acc=0.8889]"
     ]
    },
    {
     "name": "stdout",
     "output_type": "stream",
     "text": [
      " Applying transform\n",
      " Applying transform\n",
      " Applying transform\n"
     ]
    },
    {
     "name": "stderr",
     "output_type": "stream",
     "text": [
      "Training:  44%|████▍     | 7/16 [35:17<43:00, 286.76s/it, Loss=1.0991, Acc=0.8571]"
     ]
    },
    {
     "name": "stdout",
     "output_type": "stream",
     "text": [
      " Applying transform\n",
      " Applying transform\n",
      " Applying transform\n"
     ]
    },
    {
     "name": "stderr",
     "output_type": "stream",
     "text": [
      "Training: 100%|██████████| 16/16 [1:17:23<00:00, 290.21s/it, Loss=0.2104, Acc=0.8750]\n",
      "Validation:   0%|          | 0/5 [00:00<?, ?it/s]"
     ]
    },
    {
     "name": "stdout",
     "output_type": "stream",
     "text": [
      " Applying transform\n",
      " Applying transform\n",
      " Applying transform\n",
      " Applying transform\n",
      " Applying transform\n",
      " Applying transform\n",
      " Applying transform\n",
      " Applying transform\n",
      " Applying transform\n",
      " Applying transform\n",
      " Applying transform\n",
      " Applying transform\n",
      " Applying transform\n"
     ]
    },
    {
     "name": "stderr",
     "output_type": "stream",
     "text": [
      "Validation: 100%|██████████| 5/5 [04:23<00:00, 52.79s/it, Loss=1.2148]\n",
      "/mnt/c/Users/Utkarsh/IMC_classifier/.venv/lib/python3.12/site-packages/sklearn/metrics/_classification.py:1706: UndefinedMetricWarning: Precision is ill-defined and being set to 0.0 in labels with no predicted samples. Use `zero_division` parameter to control this behavior.\n",
      "  _warn_prf(average, modifier, f\"{metric.capitalize()} is\", result.shape[0])\n"
     ]
    },
    {
     "name": "stdout",
     "output_type": "stream",
     "text": [
      "Train Loss: 0.5295, Train Acc: 0.8750\n",
      "Val Loss: 0.6058, Val Acc: 0.8462\n",
      "Val F1: 0.7756\n",
      "\n",
      "Epoch 13/50\n"
     ]
    },
    {
     "name": "stderr",
     "output_type": "stream",
     "text": [
      "Training:   0%|          | 0/16 [00:00<?, ?it/s]"
     ]
    },
    {
     "name": "stdout",
     "output_type": "stream",
     "text": [
      " Applying transform\n",
      " Applying transform\n",
      " Applying transform\n",
      " Applying transform\n",
      " Applying transform\n",
      " Applying transform\n",
      " Applying transform\n",
      " Applying transform\n",
      " Applying transform\n",
      " Applying transform\n",
      " Applying transform\n",
      " Applying transform\n",
      " Applying transform\n",
      " Applying transform\n",
      " Applying transform\n",
      " Applying transform\n",
      " Applying transform\n",
      " Applying transform\n",
      " Applying transform\n",
      " Applying transform\n",
      " Applying transform\n",
      " Applying transform\n",
      " Applying transform\n",
      " Applying transform\n",
      " Applying transform\n",
      " Applying transform\n",
      " Applying transform\n"
     ]
    },
    {
     "name": "stderr",
     "output_type": "stream",
     "text": [
      "Training:   6%|▋         | 1/16 [04:21<1:05:23, 261.56s/it, Loss=0.2400, Acc=1.0000]"
     ]
    },
    {
     "name": "stdout",
     "output_type": "stream",
     "text": [
      " Applying transform\n",
      " Applying transform\n",
      " Applying transform\n"
     ]
    },
    {
     "name": "stderr",
     "output_type": "stream",
     "text": [
      "Training:  12%|█▎        | 2/16 [09:44<1:09:25, 297.55s/it, Loss=1.1762, Acc=0.8333]"
     ]
    },
    {
     "name": "stdout",
     "output_type": "stream",
     "text": [
      " Applying transform\n",
      " Applying transform\n",
      " Applying transform\n"
     ]
    },
    {
     "name": "stderr",
     "output_type": "stream",
     "text": [
      "Training:  19%|█▉        | 3/16 [15:08<1:07:08, 309.86s/it, Loss=0.3880, Acc=0.7778]"
     ]
    },
    {
     "name": "stdout",
     "output_type": "stream",
     "text": [
      " Applying transform\n",
      " Applying transform\n",
      " Applying transform\n"
     ]
    },
    {
     "name": "stderr",
     "output_type": "stream",
     "text": [
      "Training:  25%|██▌       | 4/16 [19:25<57:46, 288.88s/it, Loss=0.9404, Acc=0.6667]  "
     ]
    },
    {
     "name": "stdout",
     "output_type": "stream",
     "text": [
      " Applying transform\n",
      " Applying transform\n",
      " Applying transform\n"
     ]
    },
    {
     "name": "stderr",
     "output_type": "stream",
     "text": [
      "Training:  31%|███▏      | 5/16 [23:58<51:55, 283.25s/it, Loss=0.5751, Acc=0.6667]"
     ]
    },
    {
     "name": "stdout",
     "output_type": "stream",
     "text": [
      " Applying transform\n",
      " Applying transform\n",
      " Applying transform\n"
     ]
    },
    {
     "name": "stderr",
     "output_type": "stream",
     "text": [
      "Training:  38%|███▊      | 6/16 [29:13<48:59, 293.93s/it, Loss=0.1325, Acc=0.7222]"
     ]
    },
    {
     "name": "stdout",
     "output_type": "stream",
     "text": [
      " Applying transform\n",
      " Applying transform\n",
      " Applying transform\n"
     ]
    },
    {
     "name": "stderr",
     "output_type": "stream",
     "text": [
      "Training:  44%|████▍     | 7/16 [33:32<42:22, 282.48s/it, Loss=0.2151, Acc=0.7619]"
     ]
    },
    {
     "name": "stdout",
     "output_type": "stream",
     "text": [
      " Applying transform\n",
      " Applying transform\n",
      " Applying transform\n"
     ]
    },
    {
     "name": "stderr",
     "output_type": "stream",
     "text": [
      "Training: 100%|██████████| 16/16 [1:16:00<00:00, 285.01s/it, Loss=0.2796, Acc=0.8750]\n",
      "Validation:   0%|          | 0/5 [00:00<?, ?it/s]"
     ]
    },
    {
     "name": "stdout",
     "output_type": "stream",
     "text": [
      " Applying transform\n",
      " Applying transform\n",
      " Applying transform\n",
      " Applying transform\n",
      " Applying transform\n",
      " Applying transform\n",
      " Applying transform\n",
      " Applying transform\n",
      " Applying transform\n",
      " Applying transform\n",
      " Applying transform\n",
      " Applying transform\n",
      " Applying transform\n"
     ]
    },
    {
     "name": "stderr",
     "output_type": "stream",
     "text": [
      "Validation: 100%|██████████| 5/5 [05:17<00:00, 63.45s/it, Loss=1.0146]\n",
      "/mnt/c/Users/Utkarsh/IMC_classifier/.venv/lib/python3.12/site-packages/sklearn/metrics/_classification.py:1706: UndefinedMetricWarning: Precision is ill-defined and being set to 0.0 in labels with no predicted samples. Use `zero_division` parameter to control this behavior.\n",
      "  _warn_prf(average, modifier, f\"{metric.capitalize()} is\", result.shape[0])\n"
     ]
    },
    {
     "name": "stdout",
     "output_type": "stream",
     "text": [
      "Train Loss: 0.4241, Train Acc: 0.8750\n",
      "Val Loss: 0.5932, Val Acc: 0.8462\n",
      "Val F1: 0.7756\n",
      "\n",
      "Epoch 14/50\n"
     ]
    },
    {
     "name": "stderr",
     "output_type": "stream",
     "text": [
      "Training:   0%|          | 0/16 [00:00<?, ?it/s]"
     ]
    },
    {
     "name": "stdout",
     "output_type": "stream",
     "text": [
      " Applying transform\n",
      " Applying transform\n",
      " Applying transform\n",
      " Applying transform\n",
      " Applying transform\n",
      " Applying transform\n",
      " Applying transform\n",
      " Applying transform\n",
      " Applying transform\n",
      " Applying transform\n",
      " Applying transform\n",
      " Applying transform\n",
      " Applying transform\n",
      " Applying transform\n",
      " Applying transform Applying transform Applying transform\n",
      "\n",
      "\n",
      " Applying transform\n",
      " Applying transform\n",
      " Applying transform\n",
      " Applying transform\n",
      " Applying transform\n",
      " Applying transform\n",
      " Applying transform\n",
      " Applying transform\n",
      " Applying transform\n",
      " Applying transform\n"
     ]
    },
    {
     "name": "stderr",
     "output_type": "stream",
     "text": [
      "Training:   6%|▋         | 1/16 [05:02<1:15:33, 302.21s/it, Loss=0.1451, Acc=1.0000]"
     ]
    },
    {
     "name": "stdout",
     "output_type": "stream",
     "text": [
      " Applying transform\n",
      " Applying transform\n",
      " Applying transform\n"
     ]
    },
    {
     "name": "stderr",
     "output_type": "stream",
     "text": [
      "Training:  12%|█▎        | 2/16 [10:53<1:17:13, 330.96s/it, Loss=0.2638, Acc=1.0000]"
     ]
    },
    {
     "name": "stdout",
     "output_type": "stream",
     "text": [
      " Applying transform\n",
      " Applying transform\n",
      " Applying transform\n"
     ]
    },
    {
     "name": "stderr",
     "output_type": "stream",
     "text": [
      "Training:  19%|█▉        | 3/16 [16:14<1:10:41, 326.30s/it, Loss=0.1486, Acc=1.0000]"
     ]
    },
    {
     "name": "stdout",
     "output_type": "stream",
     "text": [
      " Applying transform\n",
      " Applying transform\n",
      " Applying transform\n"
     ]
    },
    {
     "name": "stderr",
     "output_type": "stream",
     "text": [
      "Training:  25%|██▌       | 4/16 [20:25<59:18, 296.57s/it, Loss=0.3050, Acc=1.0000]  "
     ]
    },
    {
     "name": "stdout",
     "output_type": "stream",
     "text": [
      " Applying transform\n",
      " Applying transform\n",
      " Applying transform\n"
     ]
    },
    {
     "name": "stderr",
     "output_type": "stream",
     "text": [
      "Training:  31%|███▏      | 5/16 [24:48<52:09, 284.52s/it, Loss=0.2622, Acc=1.0000]"
     ]
    },
    {
     "name": "stdout",
     "output_type": "stream",
     "text": [
      " Applying transform\n",
      " Applying transform\n",
      " Applying transform\n"
     ]
    },
    {
     "name": "stderr",
     "output_type": "stream",
     "text": [
      "Training:  38%|███▊      | 6/16 [30:26<50:28, 302.82s/it, Loss=1.1892, Acc=0.9444]"
     ]
    },
    {
     "name": "stdout",
     "output_type": "stream",
     "text": [
      " Applying transform\n",
      " Applying transform\n",
      " Applying transform\n"
     ]
    },
    {
     "name": "stderr",
     "output_type": "stream",
     "text": [
      "Training:  44%|████▍     | 7/16 [34:35<42:46, 285.12s/it, Loss=0.2253, Acc=0.9524]"
     ]
    },
    {
     "name": "stdout",
     "output_type": "stream",
     "text": [
      " Applying transform\n",
      " Applying transform\n",
      " Applying transform\n"
     ]
    },
    {
     "name": "stderr",
     "output_type": "stream",
     "text": [
      "Training: 100%|██████████| 16/16 [1:05:50<00:00, 246.88s/it, Loss=0.1346, Acc=0.8750]\n",
      "Validation:   0%|          | 0/5 [00:00<?, ?it/s]"
     ]
    },
    {
     "name": "stdout",
     "output_type": "stream",
     "text": [
      " Applying transform\n",
      " Applying transform\n",
      " Applying transform\n",
      " Applying transform\n",
      " Applying transform\n",
      " Applying transform\n",
      " Applying transform\n",
      " Applying transform\n",
      " Applying transform\n",
      " Applying transform\n",
      " Applying transform\n",
      " Applying transform\n",
      " Applying transform\n"
     ]
    },
    {
     "name": "stderr",
     "output_type": "stream",
     "text": [
      "Validation: 100%|██████████| 5/5 [02:33<00:00, 30.74s/it, Loss=1.0283]\n",
      "/mnt/c/Users/Utkarsh/IMC_classifier/.venv/lib/python3.12/site-packages/sklearn/metrics/_classification.py:1706: UndefinedMetricWarning: Precision is ill-defined and being set to 0.0 in labels with no predicted samples. Use `zero_division` parameter to control this behavior.\n",
      "  _warn_prf(average, modifier, f\"{metric.capitalize()} is\", result.shape[0])\n"
     ]
    },
    {
     "name": "stdout",
     "output_type": "stream",
     "text": [
      "Train Loss: 0.5263, Train Acc: 0.8750\n",
      "Val Loss: 0.5463, Val Acc: 0.8462\n",
      "Val F1: 0.7756\n",
      "\n",
      "Epoch 15/50\n"
     ]
    },
    {
     "name": "stderr",
     "output_type": "stream",
     "text": [
      "Training:   0%|          | 0/16 [00:00<?, ?it/s]"
     ]
    },
    {
     "name": "stdout",
     "output_type": "stream",
     "text": [
      " Applying transform\n",
      " Applying transform\n",
      " Applying transform\n",
      " Applying transform\n",
      " Applying transform\n",
      " Applying transform\n",
      " Applying transform\n",
      " Applying transform\n",
      " Applying transform\n",
      " Applying transform\n",
      " Applying transform\n",
      " Applying transform\n",
      " Applying transform\n",
      " Applying transform\n",
      " Applying transform\n",
      " Applying transform\n",
      " Applying transform\n",
      " Applying transform\n",
      " Applying transform\n",
      " Applying transform\n",
      " Applying transform\n",
      " Applying transform\n",
      " Applying transform\n",
      " Applying transform\n",
      " Applying transform\n",
      " Applying transform\n",
      " Applying transform\n"
     ]
    },
    {
     "name": "stderr",
     "output_type": "stream",
     "text": [
      "Training:   6%|▋         | 1/16 [03:16<49:06, 196.46s/it, Loss=1.2788, Acc=0.6667]"
     ]
    },
    {
     "name": "stdout",
     "output_type": "stream",
     "text": [
      " Applying transform\n",
      " Applying transform\n",
      " Applying transform\n"
     ]
    },
    {
     "name": "stderr",
     "output_type": "stream",
     "text": [
      "Training:  12%|█▎        | 2/16 [07:17<51:59, 222.80s/it, Loss=0.2189, Acc=0.8333]"
     ]
    },
    {
     "name": "stdout",
     "output_type": "stream",
     "text": [
      " Applying transform\n",
      " Applying transform\n",
      " Applying transform\n"
     ]
    },
    {
     "name": "stderr",
     "output_type": "stream",
     "text": [
      "Training:  19%|█▉        | 3/16 [11:19<50:11, 231.67s/it, Loss=1.0691, Acc=0.7778]"
     ]
    },
    {
     "name": "stdout",
     "output_type": "stream",
     "text": [
      " Applying transform\n",
      " Applying transform\n",
      " Applying transform\n"
     ]
    },
    {
     "name": "stderr",
     "output_type": "stream",
     "text": [
      "Training:  25%|██▌       | 4/16 [14:35<43:26, 217.23s/it, Loss=1.8394, Acc=0.7500]"
     ]
    },
    {
     "name": "stdout",
     "output_type": "stream",
     "text": [
      " Applying transform\n",
      " Applying transform\n",
      " Applying transform\n"
     ]
    },
    {
     "name": "stderr",
     "output_type": "stream",
     "text": [
      "Training:  31%|███▏      | 5/16 [17:56<38:46, 211.53s/it, Loss=0.2039, Acc=0.8000]"
     ]
    },
    {
     "name": "stdout",
     "output_type": "stream",
     "text": [
      " Applying transform\n",
      " Applying transform\n",
      " Applying transform\n"
     ]
    },
    {
     "name": "stderr",
     "output_type": "stream",
     "text": [
      "Training:  38%|███▊      | 6/16 [21:51<36:36, 219.68s/it, Loss=0.1838, Acc=0.8333]"
     ]
    },
    {
     "name": "stdout",
     "output_type": "stream",
     "text": [
      " Applying transform\n",
      " Applying transform\n",
      " Applying transform\n"
     ]
    },
    {
     "name": "stderr",
     "output_type": "stream",
     "text": [
      "Training:  44%|████▍     | 7/16 [24:58<31:20, 208.94s/it, Loss=0.3169, Acc=0.8095]"
     ]
    },
    {
     "name": "stdout",
     "output_type": "stream",
     "text": [
      " Applying transform\n",
      " Applying transform\n",
      " Applying transform\n"
     ]
    },
    {
     "name": "stderr",
     "output_type": "stream",
     "text": [
      "Training: 100%|██████████| 16/16 [56:17<00:00, 211.08s/it, Loss=0.3351, Acc=0.8542]\n",
      "Validation:   0%|          | 0/5 [00:00<?, ?it/s]"
     ]
    },
    {
     "name": "stdout",
     "output_type": "stream",
     "text": [
      " Applying transform\n",
      " Applying transform\n",
      " Applying transform\n",
      " Applying transform\n",
      " Applying transform\n",
      " Applying transform\n",
      " Applying transform\n",
      " Applying transform\n",
      " Applying transform\n",
      " Applying transform\n",
      " Applying transform\n",
      " Applying transform\n",
      " Applying transform\n"
     ]
    },
    {
     "name": "stderr",
     "output_type": "stream",
     "text": [
      "Validation: 100%|██████████| 5/5 [02:33<00:00, 30.74s/it, Loss=1.1904]\n",
      "/mnt/c/Users/Utkarsh/IMC_classifier/.venv/lib/python3.12/site-packages/sklearn/metrics/_classification.py:1706: UndefinedMetricWarning: Precision is ill-defined and being set to 0.0 in labels with no predicted samples. Use `zero_division` parameter to control this behavior.\n",
      "  _warn_prf(average, modifier, f\"{metric.capitalize()} is\", result.shape[0])\n"
     ]
    },
    {
     "name": "stdout",
     "output_type": "stream",
     "text": [
      "Train Loss: 0.6512, Train Acc: 0.8542\n",
      "Val Loss: 0.5567, Val Acc: 0.8462\n",
      "Val F1: 0.7756\n",
      "\n",
      "Epoch 16/50\n"
     ]
    },
    {
     "name": "stderr",
     "output_type": "stream",
     "text": [
      "Training:   0%|          | 0/16 [00:00<?, ?it/s]"
     ]
    },
    {
     "name": "stdout",
     "output_type": "stream",
     "text": [
      " Applying transform\n",
      " Applying transform Applying transform\n",
      "\n",
      " Applying transform\n",
      " Applying transform\n",
      " Applying transform\n",
      " Applying transform\n",
      " Applying transform\n",
      " Applying transform\n",
      " Applying transform\n",
      " Applying transform\n",
      " Applying transform\n",
      " Applying transform\n",
      " Applying transform\n",
      " Applying transform\n",
      " Applying transform\n",
      " Applying transform\n",
      " Applying transform\n",
      " Applying transform\n",
      " Applying transform\n",
      " Applying transform\n",
      " Applying transform\n",
      " Applying transform\n",
      " Applying transform\n",
      " Applying transform\n",
      " Applying transform\n",
      " Applying transform\n"
     ]
    },
    {
     "name": "stderr",
     "output_type": "stream",
     "text": [
      "Training:   6%|▋         | 1/16 [03:14<48:41, 194.78s/it, Loss=0.1038, Acc=1.0000]"
     ]
    },
    {
     "name": "stdout",
     "output_type": "stream",
     "text": [
      " Applying transform\n",
      " Applying transform\n",
      " Applying transform\n"
     ]
    },
    {
     "name": "stderr",
     "output_type": "stream",
     "text": [
      "Training:  12%|█▎        | 2/16 [07:16<51:49, 222.11s/it, Loss=0.1674, Acc=1.0000]"
     ]
    },
    {
     "name": "stdout",
     "output_type": "stream",
     "text": [
      " Applying transform\n",
      " Applying transform\n",
      " Applying transform\n"
     ]
    },
    {
     "name": "stderr",
     "output_type": "stream",
     "text": [
      "Training:  19%|█▉        | 3/16 [11:21<50:28, 232.98s/it, Loss=0.1604, Acc=1.0000]"
     ]
    },
    {
     "name": "stdout",
     "output_type": "stream",
     "text": [
      " Applying transform\n",
      " Applying transform\n",
      " Applying transform\n"
     ]
    },
    {
     "name": "stderr",
     "output_type": "stream",
     "text": [
      "Training:  25%|██▌       | 4/16 [14:33<43:19, 216.63s/it, Loss=0.2625, Acc=1.0000]"
     ]
    },
    {
     "name": "stdout",
     "output_type": "stream",
     "text": [
      " Applying transform\n",
      " Applying transform\n",
      " Applying transform\n"
     ]
    },
    {
     "name": "stderr",
     "output_type": "stream",
     "text": [
      "Training:  31%|███▏      | 5/16 [17:58<38:57, 212.47s/it, Loss=0.1677, Acc=1.0000]"
     ]
    },
    {
     "name": "stdout",
     "output_type": "stream",
     "text": [
      " Applying transform\n",
      " Applying transform\n",
      " Applying transform\n"
     ]
    },
    {
     "name": "stderr",
     "output_type": "stream",
     "text": [
      "Training:  38%|███▊      | 6/16 [21:55<36:46, 220.62s/it, Loss=0.1294, Acc=1.0000]"
     ]
    },
    {
     "name": "stdout",
     "output_type": "stream",
     "text": [
      " Applying transform\n",
      " Applying transform\n",
      " Applying transform\n"
     ]
    },
    {
     "name": "stderr",
     "output_type": "stream",
     "text": [
      "Training:  44%|████▍     | 7/16 [25:01<31:26, 209.61s/it, Loss=0.1149, Acc=1.0000]"
     ]
    },
    {
     "name": "stdout",
     "output_type": "stream",
     "text": [
      " Applying transform\n",
      " Applying transform\n",
      " Applying transform\n"
     ]
    },
    {
     "name": "stderr",
     "output_type": "stream",
     "text": [
      "Training: 100%|██████████| 16/16 [56:16<00:00, 211.05s/it, Loss=0.1253, Acc=0.8750]\n",
      "Validation:   0%|          | 0/5 [00:00<?, ?it/s]"
     ]
    },
    {
     "name": "stdout",
     "output_type": "stream",
     "text": [
      " Applying transform\n",
      " Applying transform\n",
      " Applying transform\n",
      " Applying transform\n",
      " Applying transform\n",
      " Applying transform\n",
      " Applying transform\n",
      " Applying transform\n",
      " Applying transform\n",
      " Applying transform\n",
      " Applying transform\n",
      " Applying transform\n",
      " Applying transform\n"
     ]
    },
    {
     "name": "stderr",
     "output_type": "stream",
     "text": [
      "Validation: 100%|██████████| 5/5 [02:33<00:00, 30.72s/it, Loss=0.9702]\n",
      "/mnt/c/Users/Utkarsh/IMC_classifier/.venv/lib/python3.12/site-packages/sklearn/metrics/_classification.py:1706: UndefinedMetricWarning: Precision is ill-defined and being set to 0.0 in labels with no predicted samples. Use `zero_division` parameter to control this behavior.\n",
      "  _warn_prf(average, modifier, f\"{metric.capitalize()} is\", result.shape[0])\n"
     ]
    },
    {
     "name": "stdout",
     "output_type": "stream",
     "text": [
      "Train Loss: 0.6310, Train Acc: 0.8750\n",
      "Val Loss: 0.5466, Val Acc: 0.8462\n",
      "Val F1: 0.7756\n",
      "\n",
      "Epoch 17/50\n"
     ]
    },
    {
     "name": "stderr",
     "output_type": "stream",
     "text": [
      "Training:   0%|          | 0/16 [00:00<?, ?it/s]"
     ]
    },
    {
     "name": "stdout",
     "output_type": "stream",
     "text": [
      " Applying transform\n",
      " Applying transform\n",
      " Applying transform\n",
      " Applying transform\n",
      " Applying transform\n",
      " Applying transform\n",
      " Applying transform\n",
      " Applying transform\n",
      " Applying transform\n",
      " Applying transform\n",
      " Applying transform\n",
      " Applying transform\n",
      " Applying transform\n",
      " Applying transform\n",
      " Applying transform\n",
      " Applying transform\n",
      " Applying transform\n",
      " Applying transform\n",
      " Applying transform\n",
      " Applying transform\n",
      " Applying transform\n",
      " Applying transform\n",
      " Applying transform\n",
      " Applying transform\n",
      " Applying transform\n",
      " Applying transform\n",
      " Applying transform\n"
     ]
    },
    {
     "name": "stderr",
     "output_type": "stream",
     "text": [
      "Training:   6%|▋         | 1/16 [03:18<49:32, 198.15s/it, Loss=0.1547, Acc=1.0000]"
     ]
    },
    {
     "name": "stdout",
     "output_type": "stream",
     "text": [
      " Applying transform\n",
      " Applying transform\n",
      " Applying transform\n"
     ]
    },
    {
     "name": "stderr",
     "output_type": "stream",
     "text": [
      "Training:  12%|█▎        | 2/16 [07:19<52:07, 223.41s/it, Loss=0.2123, Acc=1.0000]"
     ]
    },
    {
     "name": "stdout",
     "output_type": "stream",
     "text": [
      " Applying transform\n",
      " Applying transform\n",
      " Applying transform\n"
     ]
    },
    {
     "name": "stderr",
     "output_type": "stream",
     "text": [
      "Training:  19%|█▉        | 3/16 [11:21<50:15, 231.98s/it, Loss=0.3525, Acc=1.0000]"
     ]
    },
    {
     "name": "stdout",
     "output_type": "stream",
     "text": [
      " Applying transform\n",
      " Applying transform\n",
      " Applying transform\n"
     ]
    },
    {
     "name": "stderr",
     "output_type": "stream",
     "text": [
      "Training:  25%|██▌       | 4/16 [14:36<43:29, 217.43s/it, Loss=1.0098, Acc=0.9167]"
     ]
    },
    {
     "name": "stdout",
     "output_type": "stream",
     "text": [
      " Applying transform\n",
      " Applying transform\n",
      " Applying transform\n"
     ]
    },
    {
     "name": "stderr",
     "output_type": "stream",
     "text": [
      "Training:  31%|███▏      | 5/16 [18:01<39:02, 212.97s/it, Loss=0.1646, Acc=0.9333]"
     ]
    },
    {
     "name": "stdout",
     "output_type": "stream",
     "text": [
      " Applying transform\n",
      " Applying transform\n",
      " Applying transform\n"
     ]
    },
    {
     "name": "stderr",
     "output_type": "stream",
     "text": [
      "Training:  38%|███▊      | 6/16 [21:53<36:33, 219.34s/it, Loss=0.5352, Acc=0.9444]"
     ]
    },
    {
     "name": "stdout",
     "output_type": "stream",
     "text": [
      " Applying transform\n",
      " Applying transform\n",
      " Applying transform\n"
     ]
    },
    {
     "name": "stderr",
     "output_type": "stream",
     "text": [
      "Training:  44%|████▍     | 7/16 [25:02<31:25, 209.48s/it, Loss=0.8460, Acc=0.9048]"
     ]
    },
    {
     "name": "stdout",
     "output_type": "stream",
     "text": [
      " Applying transform\n",
      " Applying transform\n",
      " Applying transform\n"
     ]
    },
    {
     "name": "stderr",
     "output_type": "stream",
     "text": [
      "Training: 100%|██████████| 16/16 [56:20<00:00, 211.28s/it, Loss=0.6364, Acc=0.8750]\n",
      "Validation:   0%|          | 0/5 [00:00<?, ?it/s]"
     ]
    },
    {
     "name": "stdout",
     "output_type": "stream",
     "text": [
      " Applying transform\n",
      " Applying transform\n",
      " Applying transform\n",
      " Applying transform\n",
      " Applying transform\n",
      " Applying transform\n",
      " Applying transform\n",
      " Applying transform\n",
      " Applying transform\n",
      " Applying transform\n",
      " Applying transform\n",
      " Applying transform\n",
      " Applying transform\n"
     ]
    },
    {
     "name": "stderr",
     "output_type": "stream",
     "text": [
      "Validation: 100%|██████████| 5/5 [02:33<00:00, 30.71s/it, Loss=0.9277]\n",
      "/mnt/c/Users/Utkarsh/IMC_classifier/.venv/lib/python3.12/site-packages/sklearn/metrics/_classification.py:1706: UndefinedMetricWarning: Precision is ill-defined and being set to 0.0 in labels with no predicted samples. Use `zero_division` parameter to control this behavior.\n",
      "  _warn_prf(average, modifier, f\"{metric.capitalize()} is\", result.shape[0])\n"
     ]
    },
    {
     "name": "stdout",
     "output_type": "stream",
     "text": [
      "Train Loss: 0.4945, Train Acc: 0.8750\n",
      "Val Loss: 0.5644, Val Acc: 0.8462\n",
      "Val F1: 0.7756\n",
      "\n",
      "Epoch 18/50\n"
     ]
    },
    {
     "name": "stderr",
     "output_type": "stream",
     "text": [
      "Training:   0%|          | 0/16 [00:00<?, ?it/s]"
     ]
    },
    {
     "name": "stdout",
     "output_type": "stream",
     "text": [
      " Applying transform\n",
      " Applying transform\n",
      " Applying transform\n",
      " Applying transform\n",
      " Applying transform\n",
      " Applying transform\n",
      " Applying transform\n",
      " Applying transform\n",
      " Applying transform\n",
      " Applying transform\n",
      " Applying transform\n",
      " Applying transform\n",
      " Applying transform\n",
      " Applying transform\n",
      " Applying transform\n",
      " Applying transform\n",
      " Applying transform\n",
      " Applying transform\n",
      " Applying transform\n",
      " Applying transform\n",
      " Applying transform\n",
      " Applying transform\n",
      " Applying transform\n",
      " Applying transform\n",
      " Applying transform\n",
      " Applying transform\n",
      " Applying transform\n"
     ]
    },
    {
     "name": "stderr",
     "output_type": "stream",
     "text": [
      "Training:   6%|▋         | 1/16 [03:18<49:39, 198.65s/it, Loss=0.4963, Acc=1.0000]"
     ]
    },
    {
     "name": "stdout",
     "output_type": "stream",
     "text": [
      " Applying transform\n",
      " Applying transform\n",
      " Applying transform\n"
     ]
    },
    {
     "name": "stderr",
     "output_type": "stream",
     "text": [
      "Training:  12%|█▎        | 2/16 [07:16<51:42, 221.61s/it, Loss=0.1562, Acc=1.0000]"
     ]
    },
    {
     "name": "stdout",
     "output_type": "stream",
     "text": [
      " Applying transform\n",
      " Applying transform\n",
      " Applying transform\n"
     ]
    },
    {
     "name": "stderr",
     "output_type": "stream",
     "text": [
      "Training:  19%|█▉        | 3/16 [11:22<50:24, 232.68s/it, Loss=0.2001, Acc=1.0000]"
     ]
    },
    {
     "name": "stdout",
     "output_type": "stream",
     "text": [
      " Applying transform\n",
      " Applying transform\n",
      " Applying transform\n"
     ]
    },
    {
     "name": "stderr",
     "output_type": "stream",
     "text": [
      "Training:  25%|██▌       | 4/16 [14:33<43:17, 216.46s/it, Loss=0.2232, Acc=1.0000]"
     ]
    },
    {
     "name": "stdout",
     "output_type": "stream",
     "text": [
      " Applying transform\n",
      " Applying transform\n",
      " Applying transform\n"
     ]
    },
    {
     "name": "stderr",
     "output_type": "stream",
     "text": [
      "Training:  31%|███▏      | 5/16 [17:58<38:55, 212.34s/it, Loss=0.0962, Acc=1.0000]"
     ]
    },
    {
     "name": "stdout",
     "output_type": "stream",
     "text": [
      " Applying transform\n",
      " Applying transform\n",
      " Applying transform\n"
     ]
    },
    {
     "name": "stderr",
     "output_type": "stream",
     "text": [
      "Training:  38%|███▊      | 6/16 [21:54<36:42, 220.20s/it, Loss=0.7341, Acc=0.9444]"
     ]
    },
    {
     "name": "stdout",
     "output_type": "stream",
     "text": [
      " Applying transform\n",
      " Applying transform\n",
      " Applying transform\n"
     ]
    },
    {
     "name": "stderr",
     "output_type": "stream",
     "text": [
      "Training:  44%|████▍     | 7/16 [25:01<31:25, 209.54s/it, Loss=0.1115, Acc=0.9524]"
     ]
    },
    {
     "name": "stdout",
     "output_type": "stream",
     "text": [
      " Applying transform\n",
      " Applying transform\n",
      " Applying transform\n"
     ]
    },
    {
     "name": "stderr",
     "output_type": "stream",
     "text": [
      "Training: 100%|██████████| 16/16 [56:16<00:00, 211.05s/it, Loss=0.9614, Acc=0.8958]\n",
      "Validation:   0%|          | 0/5 [00:00<?, ?it/s]"
     ]
    },
    {
     "name": "stdout",
     "output_type": "stream",
     "text": [
      " Applying transform\n",
      " Applying transform\n",
      " Applying transform\n",
      " Applying transform\n",
      " Applying transform\n",
      " Applying transform\n",
      " Applying transform\n",
      " Applying transform\n",
      " Applying transform\n",
      " Applying transform\n",
      " Applying transform\n",
      " Applying transform\n",
      " Applying transform\n"
     ]
    },
    {
     "name": "stderr",
     "output_type": "stream",
     "text": [
      "Validation: 100%|██████████| 5/5 [02:37<00:00, 31.45s/it, Loss=0.9771]\n",
      "/mnt/c/Users/Utkarsh/IMC_classifier/.venv/lib/python3.12/site-packages/sklearn/metrics/_classification.py:1706: UndefinedMetricWarning: Precision is ill-defined and being set to 0.0 in labels with no predicted samples. Use `zero_division` parameter to control this behavior.\n",
      "  _warn_prf(average, modifier, f\"{metric.capitalize()} is\", result.shape[0])\n"
     ]
    },
    {
     "name": "stdout",
     "output_type": "stream",
     "text": [
      "Train Loss: 0.4669, Train Acc: 0.8958\n",
      "Val Loss: 0.5514, Val Acc: 0.8462\n",
      "Val F1: 0.7756\n",
      "\n",
      "Epoch 19/50\n"
     ]
    },
    {
     "name": "stderr",
     "output_type": "stream",
     "text": [
      "Training:   0%|          | 0/16 [00:00<?, ?it/s]"
     ]
    },
    {
     "name": "stdout",
     "output_type": "stream",
     "text": [
      " Applying transform\n",
      " Applying transform\n",
      " Applying transform\n",
      " Applying transform\n",
      " Applying transform\n",
      " Applying transform\n",
      " Applying transform\n",
      " Applying transform\n",
      " Applying transform\n",
      " Applying transform\n",
      " Applying transform\n",
      " Applying transform\n",
      " Applying transform\n",
      " Applying transform\n",
      " Applying transform\n",
      " Applying transform\n",
      " Applying transform\n",
      " Applying transform\n",
      " Applying transform\n",
      " Applying transform\n",
      " Applying transform\n",
      " Applying transform\n",
      " Applying transform\n",
      " Applying transform\n",
      " Applying transform\n",
      " Applying transform\n",
      " Applying transform\n"
     ]
    },
    {
     "name": "stderr",
     "output_type": "stream",
     "text": [
      "Training:   6%|▋         | 1/16 [03:14<48:37, 194.49s/it, Loss=0.1555, Acc=1.0000]"
     ]
    },
    {
     "name": "stdout",
     "output_type": "stream",
     "text": [
      " Applying transform\n",
      " Applying transform\n",
      " Applying transform\n"
     ]
    },
    {
     "name": "stderr",
     "output_type": "stream",
     "text": [
      "Training:  12%|█▎        | 2/16 [07:15<51:47, 221.99s/it, Loss=0.6981, Acc=0.8333]"
     ]
    },
    {
     "name": "stdout",
     "output_type": "stream",
     "text": [
      " Applying transform\n",
      " Applying transform\n",
      " Applying transform\n"
     ]
    },
    {
     "name": "stderr",
     "output_type": "stream",
     "text": [
      "Training:  19%|█▉        | 3/16 [11:21<50:27, 232.87s/it, Loss=1.2499, Acc=0.7778]"
     ]
    },
    {
     "name": "stdout",
     "output_type": "stream",
     "text": [
      " Applying transform\n",
      " Applying transform\n",
      " Applying transform\n"
     ]
    },
    {
     "name": "stderr",
     "output_type": "stream",
     "text": [
      "Training:  25%|██▌       | 4/16 [14:33<43:18, 216.55s/it, Loss=0.2126, Acc=0.8333]"
     ]
    },
    {
     "name": "stdout",
     "output_type": "stream",
     "text": [
      " Applying transform\n",
      " Applying transform\n",
      " Applying transform\n"
     ]
    },
    {
     "name": "stderr",
     "output_type": "stream",
     "text": [
      "Training:  31%|███▏      | 5/16 [17:58<38:56, 212.39s/it, Loss=0.1926, Acc=0.8667]"
     ]
    },
    {
     "name": "stdout",
     "output_type": "stream",
     "text": [
      " Applying transform\n",
      " Applying transform\n",
      " Applying transform\n"
     ]
    },
    {
     "name": "stderr",
     "output_type": "stream",
     "text": [
      "Training:  38%|███▊      | 6/16 [21:49<36:29, 218.99s/it, Loss=0.8246, Acc=0.8333]"
     ]
    },
    {
     "name": "stdout",
     "output_type": "stream",
     "text": [
      " Applying transform\n",
      " Applying transform\n",
      " Applying transform\n"
     ]
    },
    {
     "name": "stderr",
     "output_type": "stream",
     "text": [
      "Training:  44%|████▍     | 7/16 [24:57<31:19, 208.81s/it, Loss=0.1990, Acc=0.8571]"
     ]
    },
    {
     "name": "stdout",
     "output_type": "stream",
     "text": [
      " Applying transform\n",
      " Applying transform\n",
      " Applying transform\n"
     ]
    },
    {
     "name": "stderr",
     "output_type": "stream",
     "text": [
      "Training: 100%|██████████| 16/16 [56:15<00:00, 210.99s/it, Loss=0.3243, Acc=0.8333]\n",
      "Validation:   0%|          | 0/5 [00:00<?, ?it/s]"
     ]
    },
    {
     "name": "stdout",
     "output_type": "stream",
     "text": [
      " Applying transform\n",
      " Applying transform\n",
      " Applying transform\n",
      " Applying transform\n",
      " Applying transform\n",
      " Applying transform\n",
      " Applying transform\n",
      " Applying transform\n",
      " Applying transform\n",
      " Applying transform\n",
      " Applying transform\n",
      " Applying transform\n",
      " Applying transform\n"
     ]
    },
    {
     "name": "stderr",
     "output_type": "stream",
     "text": [
      "Validation: 100%|██████████| 5/5 [02:33<00:00, 30.72s/it, Loss=1.4629]\n",
      "/mnt/c/Users/Utkarsh/IMC_classifier/.venv/lib/python3.12/site-packages/sklearn/metrics/_classification.py:1706: UndefinedMetricWarning: Precision is ill-defined and being set to 0.0 in labels with no predicted samples. Use `zero_division` parameter to control this behavior.\n",
      "  _warn_prf(average, modifier, f\"{metric.capitalize()} is\", result.shape[0])\n"
     ]
    },
    {
     "name": "stdout",
     "output_type": "stream",
     "text": [
      "Train Loss: 0.5427, Train Acc: 0.8333\n",
      "Val Loss: 0.5749, Val Acc: 0.8462\n",
      "Val F1: 0.7756\n",
      "\n",
      "Epoch 20/50\n"
     ]
    },
    {
     "name": "stderr",
     "output_type": "stream",
     "text": [
      "Training:   0%|          | 0/16 [00:00<?, ?it/s]"
     ]
    },
    {
     "name": "stdout",
     "output_type": "stream",
     "text": [
      " Applying transform\n",
      " Applying transform\n",
      " Applying transform\n",
      " Applying transform\n",
      " Applying transform\n",
      " Applying transform\n",
      " Applying transform\n",
      " Applying transform\n",
      " Applying transform\n",
      " Applying transform\n",
      " Applying transform\n",
      " Applying transform\n",
      " Applying transform\n",
      " Applying transform\n",
      " Applying transform\n",
      " Applying transform\n",
      " Applying transform\n",
      " Applying transform\n",
      " Applying transform\n",
      " Applying transform\n",
      " Applying transform\n",
      " Applying transform\n",
      " Applying transform\n",
      " Applying transform\n",
      " Applying transform\n",
      " Applying transform\n",
      " Applying transform\n"
     ]
    },
    {
     "name": "stderr",
     "output_type": "stream",
     "text": [
      "Training:   6%|▋         | 1/16 [03:17<49:22, 197.53s/it, Loss=1.3885, Acc=0.6667]"
     ]
    },
    {
     "name": "stdout",
     "output_type": "stream",
     "text": [
      " Applying transform\n",
      " Applying transform\n",
      " Applying transform\n"
     ]
    },
    {
     "name": "stderr",
     "output_type": "stream",
     "text": [
      "Training:  12%|█▎        | 2/16 [07:15<51:35, 221.13s/it, Loss=0.2112, Acc=0.8333]"
     ]
    },
    {
     "name": "stdout",
     "output_type": "stream",
     "text": [
      " Applying transform\n",
      " Applying transform\n",
      " Applying transform\n"
     ]
    },
    {
     "name": "stderr",
     "output_type": "stream",
     "text": [
      "Training:  19%|█▉        | 3/16 [11:20<50:21, 232.40s/it, Loss=0.9899, Acc=0.7778]"
     ]
    },
    {
     "name": "stdout",
     "output_type": "stream",
     "text": [
      " Applying transform\n",
      " Applying transform\n",
      " Applying transform\n"
     ]
    },
    {
     "name": "stderr",
     "output_type": "stream",
     "text": [
      "Training:  25%|██▌       | 4/16 [14:36<43:32, 217.67s/it, Loss=0.3927, Acc=0.8333]"
     ]
    },
    {
     "name": "stdout",
     "output_type": "stream",
     "text": [
      " Applying transform\n",
      " Applying transform\n",
      " Applying transform\n"
     ]
    },
    {
     "name": "stderr",
     "output_type": "stream",
     "text": [
      "Training:  31%|███▏      | 5/16 [17:57<38:49, 211.82s/it, Loss=0.1671, Acc=0.8667]"
     ]
    },
    {
     "name": "stdout",
     "output_type": "stream",
     "text": [
      " Applying transform\n",
      " Applying transform\n",
      " Applying transform\n"
     ]
    },
    {
     "name": "stderr",
     "output_type": "stream",
     "text": [
      "Training:  38%|███▊      | 6/16 [21:52<36:38, 219.84s/it, Loss=0.3172, Acc=0.8889]"
     ]
    },
    {
     "name": "stdout",
     "output_type": "stream",
     "text": [
      " Applying transform\n",
      " Applying transform\n",
      " Applying transform\n"
     ]
    },
    {
     "name": "stderr",
     "output_type": "stream",
     "text": [
      "Training:  44%|████▍     | 7/16 [24:59<31:21, 209.08s/it, Loss=0.7420, Acc=0.8571]"
     ]
    },
    {
     "name": "stdout",
     "output_type": "stream",
     "text": [
      " Applying transform\n",
      " Applying transform\n",
      " Applying transform\n"
     ]
    },
    {
     "name": "stderr",
     "output_type": "stream",
     "text": [
      "Training: 100%|██████████| 16/16 [56:15<00:00, 210.96s/it, Loss=0.8552, Acc=0.8542]\n",
      "Validation:   0%|          | 0/5 [00:00<?, ?it/s]"
     ]
    },
    {
     "name": "stdout",
     "output_type": "stream",
     "text": [
      " Applying transform\n",
      " Applying transform\n",
      " Applying transform\n",
      " Applying transform\n",
      " Applying transform\n",
      " Applying transform\n",
      " Applying transform\n",
      " Applying transform\n",
      " Applying transform\n",
      " Applying transform\n",
      " Applying transform\n",
      " Applying transform\n",
      " Applying transform\n"
     ]
    },
    {
     "name": "stderr",
     "output_type": "stream",
     "text": [
      "Validation: 100%|██████████| 5/5 [02:37<00:00, 31.46s/it, Loss=1.1240]\n",
      "/mnt/c/Users/Utkarsh/IMC_classifier/.venv/lib/python3.12/site-packages/sklearn/metrics/_classification.py:1706: UndefinedMetricWarning: Precision is ill-defined and being set to 0.0 in labels with no predicted samples. Use `zero_division` parameter to control this behavior.\n",
      "  _warn_prf(average, modifier, f\"{metric.capitalize()} is\", result.shape[0])\n"
     ]
    },
    {
     "name": "stdout",
     "output_type": "stream",
     "text": [
      "Train Loss: 0.5505, Train Acc: 0.8542\n",
      "Val Loss: 0.5480, Val Acc: 0.8462\n",
      "Val F1: 0.7756\n",
      "\n",
      "Epoch 21/50\n"
     ]
    },
    {
     "name": "stderr",
     "output_type": "stream",
     "text": [
      "Training:   0%|          | 0/16 [00:00<?, ?it/s]"
     ]
    },
    {
     "name": "stdout",
     "output_type": "stream",
     "text": [
      " Applying transform\n",
      " Applying transform\n",
      " Applying transform\n",
      " Applying transform\n",
      " Applying transform\n",
      " Applying transform\n",
      " Applying transform\n",
      " Applying transform\n",
      " Applying transform\n",
      " Applying transform\n",
      " Applying transform\n",
      " Applying transform\n",
      " Applying transform\n",
      " Applying transform\n",
      " Applying transform\n",
      " Applying transform\n",
      " Applying transform\n",
      " Applying transform\n",
      " Applying transform\n",
      " Applying transform\n",
      " Applying transform\n",
      " Applying transform\n",
      " Applying transform\n",
      " Applying transform\n",
      " Applying transform\n",
      " Applying transform\n",
      " Applying transform\n"
     ]
    },
    {
     "name": "stderr",
     "output_type": "stream",
     "text": [
      "Training:   6%|▋         | 1/16 [03:14<48:44, 194.96s/it, Loss=0.2463, Acc=1.0000]"
     ]
    },
    {
     "name": "stdout",
     "output_type": "stream",
     "text": [
      " Applying transform\n",
      " Applying transform\n",
      " Applying transform\n"
     ]
    },
    {
     "name": "stderr",
     "output_type": "stream",
     "text": [
      "Training:  12%|█▎        | 2/16 [07:16<51:49, 222.13s/it, Loss=1.0100, Acc=0.8333]"
     ]
    },
    {
     "name": "stdout",
     "output_type": "stream",
     "text": [
      " Applying transform\n",
      " Applying transform\n",
      " Applying transform\n"
     ]
    },
    {
     "name": "stderr",
     "output_type": "stream",
     "text": [
      "Training:  19%|█▉        | 3/16 [11:21<50:27, 232.88s/it, Loss=0.7594, Acc=0.7778]"
     ]
    },
    {
     "name": "stdout",
     "output_type": "stream",
     "text": [
      " Applying transform\n",
      " Applying transform\n",
      " Applying transform\n"
     ]
    },
    {
     "name": "stderr",
     "output_type": "stream",
     "text": [
      "Training:  25%|██▌       | 4/16 [14:33<43:18, 216.52s/it, Loss=0.1872, Acc=0.8333]"
     ]
    },
    {
     "name": "stdout",
     "output_type": "stream",
     "text": [
      " Applying transform\n",
      " Applying transform\n",
      " Applying transform\n"
     ]
    },
    {
     "name": "stderr",
     "output_type": "stream",
     "text": [
      "Training:  31%|███▏      | 5/16 [17:58<38:55, 212.36s/it, Loss=0.3094, Acc=0.8667]"
     ]
    },
    {
     "name": "stdout",
     "output_type": "stream",
     "text": [
      " Applying transform\n",
      " Applying transform\n",
      " Applying transform\n"
     ]
    },
    {
     "name": "stderr",
     "output_type": "stream",
     "text": [
      "Training:  38%|███▊      | 6/16 [21:49<36:29, 218.94s/it, Loss=0.1712, Acc=0.8889]"
     ]
    },
    {
     "name": "stdout",
     "output_type": "stream",
     "text": [
      " Applying transform\n",
      " Applying transform\n",
      " Applying transform\n"
     ]
    },
    {
     "name": "stderr",
     "output_type": "stream",
     "text": [
      "Training:  44%|████▍     | 7/16 [25:00<31:26, 209.61s/it, Loss=0.3056, Acc=0.9048]"
     ]
    },
    {
     "name": "stdout",
     "output_type": "stream",
     "text": [
      " Applying transform\n",
      " Applying transform\n",
      " Applying transform\n"
     ]
    },
    {
     "name": "stderr",
     "output_type": "stream",
     "text": [
      "Training: 100%|██████████| 16/16 [56:15<00:00, 210.95s/it, Loss=0.1825, Acc=0.9167]\n",
      "Validation:   0%|          | 0/5 [00:00<?, ?it/s]"
     ]
    },
    {
     "name": "stdout",
     "output_type": "stream",
     "text": [
      " Applying transform\n",
      " Applying transform\n",
      " Applying transform\n",
      " Applying transform\n",
      " Applying transform\n",
      " Applying transform\n",
      " Applying transform\n",
      " Applying transform\n",
      " Applying transform\n",
      " Applying transform\n",
      " Applying transform\n",
      " Applying transform\n",
      " Applying transform\n"
     ]
    },
    {
     "name": "stderr",
     "output_type": "stream",
     "text": [
      "Validation: 100%|██████████| 5/5 [02:33<00:00, 30.77s/it, Loss=0.9756]\n",
      "/mnt/c/Users/Utkarsh/IMC_classifier/.venv/lib/python3.12/site-packages/sklearn/metrics/_classification.py:1706: UndefinedMetricWarning: Precision is ill-defined and being set to 0.0 in labels with no predicted samples. Use `zero_division` parameter to control this behavior.\n",
      "  _warn_prf(average, modifier, f\"{metric.capitalize()} is\", result.shape[0])\n"
     ]
    },
    {
     "name": "stdout",
     "output_type": "stream",
     "text": [
      "Train Loss: 0.3722, Train Acc: 0.9167\n",
      "Val Loss: 0.5272, Val Acc: 0.8462\n",
      "Val F1: 0.7756\n",
      "\n",
      "Epoch 22/50\n"
     ]
    },
    {
     "name": "stderr",
     "output_type": "stream",
     "text": [
      "Training:   0%|          | 0/16 [00:00<?, ?it/s]"
     ]
    },
    {
     "name": "stdout",
     "output_type": "stream",
     "text": [
      " Applying transform\n",
      " Applying transform\n",
      " Applying transform\n",
      " Applying transform\n",
      " Applying transform\n",
      " Applying transform\n",
      " Applying transform\n",
      " Applying transform\n",
      " Applying transform\n",
      " Applying transform\n",
      " Applying transform\n",
      " Applying transform\n",
      " Applying transform\n",
      " Applying transform\n",
      " Applying transform\n",
      " Applying transform\n",
      " Applying transform\n",
      " Applying transform\n",
      " Applying transform\n",
      " Applying transform\n",
      " Applying transform\n",
      " Applying transform\n",
      " Applying transform\n",
      " Applying transform\n",
      " Applying transform\n",
      " Applying transform\n",
      " Applying transform\n"
     ]
    },
    {
     "name": "stderr",
     "output_type": "stream",
     "text": [
      "Training:   6%|▋         | 1/16 [03:17<49:19, 197.28s/it, Loss=0.1006, Acc=1.0000]"
     ]
    },
    {
     "name": "stdout",
     "output_type": "stream",
     "text": [
      " Applying transform\n",
      " Applying transform\n",
      " Applying transform\n"
     ]
    },
    {
     "name": "stderr",
     "output_type": "stream",
     "text": [
      "Training:  12%|█▎        | 2/16 [07:14<51:34, 221.01s/it, Loss=0.1468, Acc=1.0000]"
     ]
    },
    {
     "name": "stdout",
     "output_type": "stream",
     "text": [
      " Applying transform\n",
      " Applying transform\n",
      " Applying transform\n"
     ]
    },
    {
     "name": "stderr",
     "output_type": "stream",
     "text": [
      "Training:  19%|█▉        | 3/16 [11:20<50:20, 232.35s/it, Loss=0.2433, Acc=1.0000]"
     ]
    },
    {
     "name": "stdout",
     "output_type": "stream",
     "text": [
      " Applying transform\n",
      " Applying transform\n",
      " Applying transform\n"
     ]
    },
    {
     "name": "stderr",
     "output_type": "stream",
     "text": [
      "Training:  25%|██▌       | 4/16 [14:35<43:31, 217.65s/it, Loss=0.1298, Acc=1.0000]"
     ]
    },
    {
     "name": "stdout",
     "output_type": "stream",
     "text": [
      " Applying transform\n",
      " Applying transform\n",
      " Applying transform\n"
     ]
    },
    {
     "name": "stderr",
     "output_type": "stream",
     "text": [
      "Training:  31%|███▏      | 5/16 [17:57<38:49, 211.80s/it, Loss=0.8339, Acc=0.9333]"
     ]
    },
    {
     "name": "stdout",
     "output_type": "stream",
     "text": [
      " Applying transform\n",
      " Applying transform\n",
      " Applying transform\n"
     ]
    },
    {
     "name": "stderr",
     "output_type": "stream",
     "text": [
      "Training:  38%|███▊      | 6/16 [21:52<36:38, 219.81s/it, Loss=0.2825, Acc=0.9444]"
     ]
    },
    {
     "name": "stdout",
     "output_type": "stream",
     "text": [
      " Applying transform\n",
      " Applying transform\n",
      " Applying transform\n"
     ]
    },
    {
     "name": "stderr",
     "output_type": "stream",
     "text": [
      "Training:  44%|████▍     | 7/16 [24:59<31:21, 209.06s/it, Loss=0.6386, Acc=0.9048]"
     ]
    },
    {
     "name": "stdout",
     "output_type": "stream",
     "text": [
      " Applying transform\n",
      " Applying transform\n",
      " Applying transform\n"
     ]
    },
    {
     "name": "stderr",
     "output_type": "stream",
     "text": [
      "Training: 100%|██████████| 16/16 [56:16<00:00, 211.04s/it, Loss=0.2718, Acc=0.8750]\n",
      "Validation:   0%|          | 0/5 [00:00<?, ?it/s]"
     ]
    },
    {
     "name": "stdout",
     "output_type": "stream",
     "text": [
      " Applying transform\n",
      " Applying transform\n",
      " Applying transform\n",
      " Applying transform\n",
      " Applying transform\n",
      " Applying transform\n",
      " Applying transform\n",
      " Applying transform\n",
      " Applying transform\n",
      " Applying transform\n",
      " Applying transform\n",
      " Applying transform\n",
      " Applying transform\n"
     ]
    },
    {
     "name": "stderr",
     "output_type": "stream",
     "text": [
      "Validation: 100%|██████████| 5/5 [02:33<00:00, 30.75s/it, Loss=1.0186]\n",
      "/mnt/c/Users/Utkarsh/IMC_classifier/.venv/lib/python3.12/site-packages/sklearn/metrics/_classification.py:1706: UndefinedMetricWarning: Precision is ill-defined and being set to 0.0 in labels with no predicted samples. Use `zero_division` parameter to control this behavior.\n",
      "  _warn_prf(average, modifier, f\"{metric.capitalize()} is\", result.shape[0])\n"
     ]
    },
    {
     "name": "stdout",
     "output_type": "stream",
     "text": [
      "Train Loss: 0.4538, Train Acc: 0.8750\n",
      "Val Loss: 0.5490, Val Acc: 0.8462\n",
      "Val F1: 0.7756\n",
      "\n",
      "Epoch 23/50\n"
     ]
    },
    {
     "name": "stderr",
     "output_type": "stream",
     "text": [
      "Training:   0%|          | 0/16 [00:00<?, ?it/s]"
     ]
    },
    {
     "name": "stdout",
     "output_type": "stream",
     "text": [
      " Applying transform\n",
      " Applying transform\n",
      " Applying transform\n",
      " Applying transform\n",
      " Applying transform\n",
      " Applying transform\n",
      " Applying transform\n",
      " Applying transform\n",
      " Applying transform\n",
      " Applying transform\n",
      " Applying transform\n",
      " Applying transform\n",
      " Applying transform\n",
      " Applying transform\n",
      " Applying transform\n",
      " Applying transform\n",
      " Applying transform\n",
      " Applying transform\n",
      " Applying transform\n",
      " Applying transform\n",
      " Applying transform\n",
      " Applying transform\n",
      " Applying transform\n",
      " Applying transform\n",
      " Applying transform\n",
      " Applying transform\n",
      " Applying transform\n"
     ]
    },
    {
     "name": "stderr",
     "output_type": "stream",
     "text": [
      "Training:   6%|▋         | 1/16 [03:14<48:38, 194.57s/it, Loss=0.2568, Acc=1.0000]"
     ]
    },
    {
     "name": "stdout",
     "output_type": "stream",
     "text": [
      " Applying transform\n",
      " Applying transform\n",
      " Applying transform\n"
     ]
    },
    {
     "name": "stderr",
     "output_type": "stream",
     "text": [
      "Training:  12%|█▎        | 2/16 [07:15<51:48, 222.01s/it, Loss=0.8602, Acc=0.8333]"
     ]
    },
    {
     "name": "stdout",
     "output_type": "stream",
     "text": [
      " Applying transform\n",
      " Applying transform\n",
      " Applying transform\n"
     ]
    },
    {
     "name": "stderr",
     "output_type": "stream",
     "text": [
      "Training:  19%|█▉        | 3/16 [11:21<50:26, 232.85s/it, Loss=0.1922, Acc=0.8889]"
     ]
    },
    {
     "name": "stdout",
     "output_type": "stream",
     "text": [
      " Applying transform\n",
      " Applying transform\n",
      " Applying transform\n"
     ]
    },
    {
     "name": "stderr",
     "output_type": "stream",
     "text": [
      "Training:  25%|██▌       | 4/16 [14:33<43:18, 216.54s/it, Loss=0.9585, Acc=0.8333]"
     ]
    },
    {
     "name": "stdout",
     "output_type": "stream",
     "text": [
      " Applying transform\n",
      " Applying transform\n",
      " Applying transform\n"
     ]
    },
    {
     "name": "stderr",
     "output_type": "stream",
     "text": [
      "Training:  31%|███▏      | 5/16 [17:58<38:55, 212.36s/it, Loss=0.2757, Acc=0.8667]"
     ]
    },
    {
     "name": "stdout",
     "output_type": "stream",
     "text": [
      " Applying transform\n",
      " Applying transform\n",
      " Applying transform\n"
     ]
    },
    {
     "name": "stderr",
     "output_type": "stream",
     "text": [
      "Training:  38%|███▊      | 6/16 [21:49<36:29, 218.94s/it, Loss=0.2699, Acc=0.8889]"
     ]
    },
    {
     "name": "stdout",
     "output_type": "stream",
     "text": [
      " Applying transform\n",
      " Applying transform\n",
      " Applying transform\n"
     ]
    },
    {
     "name": "stderr",
     "output_type": "stream",
     "text": [
      "Training:  44%|████▍     | 7/16 [25:00<31:26, 209.62s/it, Loss=0.8534, Acc=0.8571]"
     ]
    },
    {
     "name": "stdout",
     "output_type": "stream",
     "text": [
      " Applying transform\n",
      " Applying transform\n",
      " Applying transform\n"
     ]
    },
    {
     "name": "stderr",
     "output_type": "stream",
     "text": [
      "Training: 100%|██████████| 16/16 [56:15<00:00, 210.94s/it, Loss=0.9962, Acc=0.8958]\n",
      "Validation:   0%|          | 0/5 [00:00<?, ?it/s]"
     ]
    },
    {
     "name": "stdout",
     "output_type": "stream",
     "text": [
      " Applying transform\n",
      " Applying transform\n",
      " Applying transform\n",
      " Applying transform\n",
      " Applying transform\n",
      " Applying transform\n",
      " Applying transform\n",
      " Applying transform\n",
      " Applying transform\n",
      " Applying transform\n",
      " Applying transform\n",
      " Applying transform\n",
      " Applying transform\n"
     ]
    },
    {
     "name": "stderr",
     "output_type": "stream",
     "text": [
      "Validation: 100%|██████████| 5/5 [02:33<00:00, 30.68s/it, Loss=1.3330]\n",
      "/mnt/c/Users/Utkarsh/IMC_classifier/.venv/lib/python3.12/site-packages/sklearn/metrics/_classification.py:1706: UndefinedMetricWarning: Precision is ill-defined and being set to 0.0 in labels with no predicted samples. Use `zero_division` parameter to control this behavior.\n",
      "  _warn_prf(average, modifier, f\"{metric.capitalize()} is\", result.shape[0])\n"
     ]
    },
    {
     "name": "stdout",
     "output_type": "stream",
     "text": [
      "Train Loss: 0.4450, Train Acc: 0.8958\n",
      "Val Loss: 0.5303, Val Acc: 0.8462\n",
      "Val F1: 0.7756\n",
      "\n",
      "Epoch 24/50\n"
     ]
    },
    {
     "name": "stderr",
     "output_type": "stream",
     "text": [
      "Training:   0%|          | 0/16 [00:00<?, ?it/s]"
     ]
    },
    {
     "name": "stdout",
     "output_type": "stream",
     "text": [
      " Applying transform\n",
      " Applying transform\n",
      " Applying transform\n",
      " Applying transform\n",
      " Applying transform\n",
      " Applying transform\n",
      " Applying transform\n",
      " Applying transform\n",
      " Applying transform\n",
      " Applying transform\n",
      " Applying transform\n",
      " Applying transform\n",
      " Applying transform\n",
      " Applying transform\n",
      " Applying transform\n",
      " Applying transform\n",
      " Applying transform\n",
      " Applying transform\n",
      " Applying transform\n",
      " Applying transform\n",
      " Applying transform\n",
      " Applying transform\n",
      " Applying transform\n",
      " Applying transform\n",
      " Applying transform\n",
      " Applying transform\n",
      " Applying transform\n"
     ]
    },
    {
     "name": "stderr",
     "output_type": "stream",
     "text": [
      "Training:   6%|▋         | 1/16 [03:18<49:42, 198.85s/it, Loss=0.1615, Acc=1.0000]"
     ]
    },
    {
     "name": "stdout",
     "output_type": "stream",
     "text": [
      " Applying transform\n",
      " Applying transform\n",
      " Applying transform\n"
     ]
    },
    {
     "name": "stderr",
     "output_type": "stream",
     "text": [
      "Training:  12%|█▎        | 2/16 [07:19<52:11, 223.71s/it, Loss=1.0432, Acc=0.8333]"
     ]
    },
    {
     "name": "stdout",
     "output_type": "stream",
     "text": [
      " Applying transform\n",
      " Applying transform\n",
      " Applying transform\n"
     ]
    },
    {
     "name": "stderr",
     "output_type": "stream",
     "text": [
      "Training:  19%|█▉        | 3/16 [11:22<50:18, 232.17s/it, Loss=0.1741, Acc=0.8889]"
     ]
    },
    {
     "name": "stdout",
     "output_type": "stream",
     "text": [
      " Applying transform\n",
      " Applying transform\n",
      " Applying transform\n"
     ]
    },
    {
     "name": "stderr",
     "output_type": "stream",
     "text": [
      "Training:  25%|██▌       | 4/16 [14:37<43:30, 217.54s/it, Loss=0.3434, Acc=0.9167]"
     ]
    },
    {
     "name": "stdout",
     "output_type": "stream",
     "text": [
      " Applying transform\n",
      " Applying transform\n",
      " Applying transform\n"
     ]
    },
    {
     "name": "stderr",
     "output_type": "stream",
     "text": [
      "Training:  31%|███▏      | 5/16 [17:58<38:48, 211.71s/it, Loss=0.1786, Acc=0.9333]"
     ]
    },
    {
     "name": "stdout",
     "output_type": "stream",
     "text": [
      " Applying transform\n",
      " Applying transform\n",
      " Applying transform\n"
     ]
    },
    {
     "name": "stderr",
     "output_type": "stream",
     "text": [
      "Training:  38%|███▊      | 6/16 [21:54<36:37, 219.74s/it, Loss=0.7582, Acc=0.8889]"
     ]
    },
    {
     "name": "stdout",
     "output_type": "stream",
     "text": [
      " Applying transform\n",
      " Applying transform\n",
      " Applying transform\n"
     ]
    },
    {
     "name": "stderr",
     "output_type": "stream",
     "text": [
      "Training:  44%|████▍     | 7/16 [25:00<31:20, 208.98s/it, Loss=0.1741, Acc=0.9048]"
     ]
    },
    {
     "name": "stdout",
     "output_type": "stream",
     "text": [
      " Applying transform\n",
      " Applying transform\n",
      " Applying transform\n"
     ]
    },
    {
     "name": "stderr",
     "output_type": "stream",
     "text": [
      "Training: 100%|██████████| 16/16 [56:19<00:00, 211.23s/it, Loss=0.3171, Acc=0.8750]\n",
      "Validation:   0%|          | 0/5 [00:00<?, ?it/s]"
     ]
    },
    {
     "name": "stdout",
     "output_type": "stream",
     "text": [
      " Applying transform\n",
      " Applying transform\n",
      " Applying transform\n",
      " Applying transform\n",
      " Applying transform\n",
      " Applying transform\n",
      " Applying transform\n",
      " Applying transform\n",
      " Applying transform\n",
      " Applying transform\n",
      " Applying transform\n",
      " Applying transform\n",
      " Applying transform\n"
     ]
    },
    {
     "name": "stderr",
     "output_type": "stream",
     "text": [
      "Validation: 100%|██████████| 5/5 [02:33<00:00, 30.76s/it, Loss=0.9502]\n",
      "/mnt/c/Users/Utkarsh/IMC_classifier/.venv/lib/python3.12/site-packages/sklearn/metrics/_classification.py:1706: UndefinedMetricWarning: Precision is ill-defined and being set to 0.0 in labels with no predicted samples. Use `zero_division` parameter to control this behavior.\n",
      "  _warn_prf(average, modifier, f\"{metric.capitalize()} is\", result.shape[0])\n"
     ]
    },
    {
     "name": "stdout",
     "output_type": "stream",
     "text": [
      "Train Loss: 0.5548, Train Acc: 0.8750\n",
      "Val Loss: 0.5427, Val Acc: 0.8462\n",
      "Val F1: 0.7756\n",
      "\n",
      "Epoch 25/50\n"
     ]
    },
    {
     "name": "stderr",
     "output_type": "stream",
     "text": [
      "Training:   0%|          | 0/16 [00:00<?, ?it/s]"
     ]
    },
    {
     "name": "stdout",
     "output_type": "stream",
     "text": [
      " Applying transform\n",
      " Applying transform\n",
      " Applying transform\n",
      " Applying transform\n",
      " Applying transform\n",
      " Applying transform\n",
      " Applying transform\n",
      " Applying transform\n",
      " Applying transform\n",
      " Applying transform\n",
      " Applying transform\n",
      " Applying transform\n",
      " Applying transform\n",
      " Applying transform\n",
      " Applying transform\n",
      " Applying transform\n",
      " Applying transform\n",
      " Applying transform\n",
      " Applying transform\n",
      " Applying transform\n",
      " Applying transform\n",
      " Applying transform\n",
      " Applying transform\n",
      " Applying transform\n",
      " Applying transform\n",
      " Applying transform\n",
      " Applying transform\n"
     ]
    },
    {
     "name": "stderr",
     "output_type": "stream",
     "text": [
      "Training:   6%|▋         | 1/16 [03:15<48:48, 195.21s/it, Loss=0.8374, Acc=0.6667]"
     ]
    },
    {
     "name": "stdout",
     "output_type": "stream",
     "text": [
      " Applying transform\n",
      " Applying transform\n",
      " Applying transform\n"
     ]
    },
    {
     "name": "stderr",
     "output_type": "stream",
     "text": [
      "Training:  12%|█▎        | 2/16 [07:16<51:51, 222.27s/it, Loss=0.1845, Acc=0.8333]"
     ]
    },
    {
     "name": "stdout",
     "output_type": "stream",
     "text": [
      " Applying transform\n",
      " Applying transform\n",
      " Applying transform\n"
     ]
    },
    {
     "name": "stderr",
     "output_type": "stream",
     "text": [
      "Training:  19%|█▉        | 3/16 [11:22<50:29, 233.06s/it, Loss=1.1103, Acc=0.7778]"
     ]
    },
    {
     "name": "stdout",
     "output_type": "stream",
     "text": [
      " Applying transform\n",
      " Applying transform\n",
      " Applying transform\n"
     ]
    },
    {
     "name": "stderr",
     "output_type": "stream",
     "text": [
      "Training:  25%|██▌       | 4/16 [14:33<43:20, 216.69s/it, Loss=0.2491, Acc=0.8333]"
     ]
    },
    {
     "name": "stdout",
     "output_type": "stream",
     "text": [
      " Applying transform\n",
      " Applying transform\n",
      " Applying transform\n"
     ]
    },
    {
     "name": "stderr",
     "output_type": "stream",
     "text": [
      "Training:  31%|███▏      | 5/16 [17:58<38:57, 212.49s/it, Loss=1.4680, Acc=0.8000]"
     ]
    },
    {
     "name": "stdout",
     "output_type": "stream",
     "text": [
      " Applying transform\n",
      " Applying transform\n",
      " Applying transform\n"
     ]
    },
    {
     "name": "stderr",
     "output_type": "stream",
     "text": [
      "Training:  38%|███▊      | 6/16 [21:54<36:42, 220.28s/it, Loss=0.1611, Acc=0.8333]"
     ]
    },
    {
     "name": "stdout",
     "output_type": "stream",
     "text": [
      " Applying transform\n",
      " Applying transform\n",
      " Applying transform\n"
     ]
    },
    {
     "name": "stderr",
     "output_type": "stream",
     "text": [
      "Training:  44%|████▍     | 7/16 [25:01<31:24, 209.38s/it, Loss=0.7597, Acc=0.8095]"
     ]
    },
    {
     "name": "stdout",
     "output_type": "stream",
     "text": [
      " Applying transform\n",
      " Applying transform\n",
      " Applying transform\n"
     ]
    },
    {
     "name": "stderr",
     "output_type": "stream",
     "text": [
      "Training: 100%|██████████| 16/16 [56:18<00:00, 211.15s/it, Loss=0.1361, Acc=0.8542]\n",
      "Validation:   0%|          | 0/5 [00:00<?, ?it/s]"
     ]
    },
    {
     "name": "stdout",
     "output_type": "stream",
     "text": [
      " Applying transform\n",
      " Applying transform\n",
      " Applying transform\n",
      " Applying transform\n",
      " Applying transform\n",
      " Applying transform\n",
      " Applying transform\n",
      " Applying transform\n",
      " Applying transform\n",
      " Applying transform\n",
      " Applying transform\n",
      " Applying transform\n",
      " Applying transform\n"
     ]
    },
    {
     "name": "stderr",
     "output_type": "stream",
     "text": [
      "Validation: 100%|██████████| 5/5 [02:37<00:00, 31.47s/it, Loss=0.8882]\n",
      "/mnt/c/Users/Utkarsh/IMC_classifier/.venv/lib/python3.12/site-packages/sklearn/metrics/_classification.py:1706: UndefinedMetricWarning: Precision is ill-defined and being set to 0.0 in labels with no predicted samples. Use `zero_division` parameter to control this behavior.\n",
      "  _warn_prf(average, modifier, f\"{metric.capitalize()} is\", result.shape[0])\n"
     ]
    },
    {
     "name": "stdout",
     "output_type": "stream",
     "text": [
      "Train Loss: 0.5172, Train Acc: 0.8542\n",
      "Val Loss: 0.5575, Val Acc: 0.8462\n",
      "Val F1: 0.7756\n",
      "\n",
      "Epoch 26/50\n"
     ]
    },
    {
     "name": "stderr",
     "output_type": "stream",
     "text": [
      "Training:   0%|          | 0/16 [00:00<?, ?it/s]"
     ]
    },
    {
     "name": "stdout",
     "output_type": "stream",
     "text": [
      " Applying transform\n",
      " Applying transform\n",
      " Applying transform\n",
      " Applying transform\n",
      " Applying transform\n",
      " Applying transform\n",
      " Applying transform\n",
      " Applying transform\n",
      " Applying transform\n",
      " Applying transform\n",
      " Applying transform\n",
      " Applying transform\n",
      " Applying transform\n",
      " Applying transform\n",
      " Applying transform\n",
      " Applying transform\n",
      " Applying transform\n",
      " Applying transform\n",
      " Applying transform\n",
      " Applying transform\n",
      " Applying transform\n",
      " Applying transform\n",
      " Applying transform\n",
      " Applying transform\n",
      " Applying transform\n",
      " Applying transform\n",
      " Applying transform\n"
     ]
    },
    {
     "name": "stderr",
     "output_type": "stream",
     "text": [
      "Training:   6%|▋         | 1/16 [03:15<48:45, 195.05s/it, Loss=0.1912, Acc=1.0000]"
     ]
    },
    {
     "name": "stdout",
     "output_type": "stream",
     "text": [
      " Applying transform\n",
      " Applying transform\n",
      " Applying transform\n"
     ]
    },
    {
     "name": "stderr",
     "output_type": "stream",
     "text": [
      "Training:  12%|█▎        | 2/16 [07:16<51:51, 222.22s/it, Loss=0.3805, Acc=1.0000]"
     ]
    },
    {
     "name": "stdout",
     "output_type": "stream",
     "text": [
      " Applying transform\n",
      " Applying transform\n",
      " Applying transform\n"
     ]
    },
    {
     "name": "stderr",
     "output_type": "stream",
     "text": [
      "Training:  19%|█▉        | 3/16 [11:22<50:29, 233.05s/it, Loss=0.0990, Acc=1.0000]"
     ]
    },
    {
     "name": "stdout",
     "output_type": "stream",
     "text": [
      " Applying transform\n",
      " Applying transform\n",
      " Applying transform\n"
     ]
    },
    {
     "name": "stderr",
     "output_type": "stream",
     "text": [
      "Training:  25%|██▌       | 4/16 [14:33<43:19, 216.66s/it, Loss=1.2163, Acc=0.9167]"
     ]
    },
    {
     "name": "stdout",
     "output_type": "stream",
     "text": [
      " Applying transform\n",
      " Applying transform\n",
      " Applying transform\n"
     ]
    },
    {
     "name": "stderr",
     "output_type": "stream",
     "text": [
      "Training:  31%|███▏      | 5/16 [17:58<38:57, 212.48s/it, Loss=0.1926, Acc=0.9333]"
     ]
    },
    {
     "name": "stdout",
     "output_type": "stream",
     "text": [
      " Applying transform\n",
      " Applying transform\n",
      " Applying transform\n"
     ]
    },
    {
     "name": "stderr",
     "output_type": "stream",
     "text": [
      "Training:  38%|███▊      | 6/16 [21:50<36:30, 219.06s/it, Loss=0.2087, Acc=0.9444]"
     ]
    },
    {
     "name": "stdout",
     "output_type": "stream",
     "text": [
      " Applying transform\n",
      " Applying transform\n",
      " Applying transform\n"
     ]
    },
    {
     "name": "stderr",
     "output_type": "stream",
     "text": [
      "Training:  44%|████▍     | 7/16 [24:57<31:17, 208.56s/it, Loss=0.1843, Acc=0.9524]"
     ]
    },
    {
     "name": "stdout",
     "output_type": "stream",
     "text": [
      " Applying transform\n",
      " Applying transform\n",
      " Applying transform\n"
     ]
    },
    {
     "name": "stderr",
     "output_type": "stream",
     "text": [
      "Training: 100%|██████████| 16/16 [56:16<00:00, 211.04s/it, Loss=0.1946, Acc=0.8750]\n",
      "Validation:   0%|          | 0/5 [00:00<?, ?it/s]"
     ]
    },
    {
     "name": "stdout",
     "output_type": "stream",
     "text": [
      " Applying transform\n",
      " Applying transform\n",
      " Applying transform\n",
      " Applying transform\n",
      " Applying transform\n",
      " Applying transform\n",
      " Applying transform\n",
      " Applying transform\n",
      " Applying transform\n",
      " Applying transform\n",
      " Applying transform\n",
      " Applying transform\n",
      " Applying transform\n"
     ]
    },
    {
     "name": "stderr",
     "output_type": "stream",
     "text": [
      "Validation: 100%|██████████| 5/5 [02:33<00:00, 30.70s/it, Loss=0.9165]\n",
      "/mnt/c/Users/Utkarsh/IMC_classifier/.venv/lib/python3.12/site-packages/sklearn/metrics/_classification.py:1706: UndefinedMetricWarning: Precision is ill-defined and being set to 0.0 in labels with no predicted samples. Use `zero_division` parameter to control this behavior.\n",
      "  _warn_prf(average, modifier, f\"{metric.capitalize()} is\", result.shape[0])\n"
     ]
    },
    {
     "name": "stdout",
     "output_type": "stream",
     "text": [
      "Train Loss: 0.5095, Train Acc: 0.8750\n",
      "Val Loss: 0.5497, Val Acc: 0.8462\n",
      "Val F1: 0.7756\n",
      "\n",
      "Epoch 27/50\n"
     ]
    },
    {
     "name": "stderr",
     "output_type": "stream",
     "text": [
      "Training:   0%|          | 0/16 [00:00<?, ?it/s]"
     ]
    },
    {
     "name": "stdout",
     "output_type": "stream",
     "text": [
      " Applying transform\n",
      " Applying transform\n",
      " Applying transform\n",
      " Applying transform\n",
      " Applying transform\n",
      " Applying transform\n",
      " Applying transform\n",
      " Applying transform\n",
      " Applying transform\n",
      " Applying transform\n",
      " Applying transform\n",
      " Applying transform\n",
      " Applying transform\n",
      " Applying transform\n",
      " Applying transform\n",
      " Applying transform\n",
      " Applying transform\n",
      " Applying transform\n",
      " Applying transform\n",
      " Applying transform\n",
      " Applying transform\n",
      " Applying transform\n",
      " Applying transform\n",
      " Applying transform\n",
      " Applying transform\n",
      " Applying transform\n",
      " Applying transform\n"
     ]
    },
    {
     "name": "stderr",
     "output_type": "stream",
     "text": [
      "Training:   6%|▋         | 1/16 [03:18<49:34, 198.33s/it, Loss=0.1922, Acc=1.0000]"
     ]
    },
    {
     "name": "stdout",
     "output_type": "stream",
     "text": [
      " Applying transform\n",
      " Applying transform\n",
      " Applying transform\n"
     ]
    },
    {
     "name": "stderr",
     "output_type": "stream",
     "text": [
      "Training:  12%|█▎        | 2/16 [07:15<51:40, 221.45s/it, Loss=2.1074, Acc=0.8333]"
     ]
    },
    {
     "name": "stdout",
     "output_type": "stream",
     "text": [
      " Applying transform\n",
      " Applying transform\n",
      " Applying transform\n"
     ]
    },
    {
     "name": "stderr",
     "output_type": "stream",
     "text": [
      "Training:  19%|█▉        | 3/16 [11:21<50:23, 232.57s/it, Loss=0.2360, Acc=0.8889]"
     ]
    },
    {
     "name": "stdout",
     "output_type": "stream",
     "text": [
      " Applying transform\n",
      " Applying transform\n",
      " Applying transform\n"
     ]
    },
    {
     "name": "stderr",
     "output_type": "stream",
     "text": [
      "Training:  25%|██▌       | 4/16 [14:36<43:33, 217.80s/it, Loss=0.3011, Acc=0.9167]"
     ]
    },
    {
     "name": "stdout",
     "output_type": "stream",
     "text": [
      " Applying transform\n",
      " Applying transform\n",
      " Applying transform\n"
     ]
    },
    {
     "name": "stderr",
     "output_type": "stream",
     "text": [
      "Training:  31%|███▏      | 5/16 [17:58<38:50, 211.90s/it, Loss=0.1357, Acc=0.9333]"
     ]
    },
    {
     "name": "stdout",
     "output_type": "stream",
     "text": [
      " Applying transform\n",
      " Applying transform\n",
      " Applying transform\n"
     ]
    },
    {
     "name": "stderr",
     "output_type": "stream",
     "text": [
      "Training:  38%|███▊      | 6/16 [21:53<36:39, 219.91s/it, Loss=0.1771, Acc=0.9444]"
     ]
    },
    {
     "name": "stdout",
     "output_type": "stream",
     "text": [
      " Applying transform\n",
      " Applying transform\n",
      " Applying transform\n"
     ]
    },
    {
     "name": "stderr",
     "output_type": "stream",
     "text": [
      "Training:  44%|████▍     | 7/16 [25:00<31:22, 209.16s/it, Loss=0.1875, Acc=0.9524]"
     ]
    },
    {
     "name": "stdout",
     "output_type": "stream",
     "text": [
      " Applying transform\n",
      " Applying transform\n",
      " Applying transform\n"
     ]
    },
    {
     "name": "stderr",
     "output_type": "stream",
     "text": [
      "Training: 100%|██████████| 16/16 [56:17<00:00, 211.07s/it, Loss=0.6918, Acc=0.9167]\n",
      "Validation:   0%|          | 0/5 [00:00<?, ?it/s]"
     ]
    },
    {
     "name": "stdout",
     "output_type": "stream",
     "text": [
      " Applying transform\n",
      " Applying transform\n",
      " Applying transform\n",
      " Applying transform\n",
      " Applying transform\n",
      " Applying transform\n",
      " Applying transform\n",
      " Applying transform\n",
      " Applying transform\n",
      " Applying transform\n",
      " Applying transform\n",
      " Applying transform\n",
      " Applying transform\n"
     ]
    },
    {
     "name": "stderr",
     "output_type": "stream",
     "text": [
      "Validation: 100%|██████████| 5/5 [02:37<00:00, 31.49s/it, Loss=1.0020]\n"
     ]
    },
    {
     "name": "stdout",
     "output_type": "stream",
     "text": [
      "Train Loss: 0.4832, Train Acc: 0.9167\n",
      "Val Loss: nan, Val Acc: 0.7692\n",
      "Val F1: 0.7358\n",
      "\n",
      "Epoch 28/50\n"
     ]
    },
    {
     "name": "stderr",
     "output_type": "stream",
     "text": [
      "Training:   0%|          | 0/16 [00:00<?, ?it/s]"
     ]
    },
    {
     "name": "stdout",
     "output_type": "stream",
     "text": [
      " Applying transform\n",
      " Applying transform\n",
      " Applying transform\n",
      " Applying transform\n",
      " Applying transform\n",
      " Applying transform\n",
      " Applying transform\n",
      " Applying transform\n",
      " Applying transform\n",
      " Applying transform\n",
      " Applying transform\n",
      " Applying transform\n",
      " Applying transform\n",
      " Applying transform\n",
      " Applying transform\n",
      " Applying transform\n",
      " Applying transform\n",
      " Applying transform\n",
      " Applying transform\n",
      " Applying transform\n",
      " Applying transform\n",
      " Applying transform\n",
      " Applying transform\n",
      " Applying transform\n",
      " Applying transform\n",
      " Applying transform\n",
      " Applying transform\n"
     ]
    },
    {
     "name": "stderr",
     "output_type": "stream",
     "text": [
      "Training:   6%|▋         | 1/16 [03:13<48:28, 193.87s/it, Loss=0.5847, Acc=0.6667]"
     ]
    },
    {
     "name": "stdout",
     "output_type": "stream",
     "text": [
      " Applying transform\n",
      " Applying transform\n",
      " Applying transform\n"
     ]
    },
    {
     "name": "stderr",
     "output_type": "stream",
     "text": [
      "Training:  12%|█▎        | 2/16 [07:15<51:43, 221.70s/it, Loss=1.3136, Acc=0.6667]"
     ]
    },
    {
     "name": "stdout",
     "output_type": "stream",
     "text": [
      " Applying transform\n",
      " Applying transform\n",
      " Applying transform\n"
     ]
    },
    {
     "name": "stderr",
     "output_type": "stream",
     "text": [
      "Training:  19%|█▉        | 3/16 [11:20<50:25, 232.69s/it, Loss=0.1980, Acc=0.7778]"
     ]
    },
    {
     "name": "stdout",
     "output_type": "stream",
     "text": [
      " Applying transform\n",
      " Applying transform\n",
      " Applying transform\n"
     ]
    },
    {
     "name": "stderr",
     "output_type": "stream",
     "text": [
      "Training:  25%|██▌       | 4/16 [14:32<43:16, 216.41s/it, Loss=0.2232, Acc=0.8333]"
     ]
    },
    {
     "name": "stdout",
     "output_type": "stream",
     "text": [
      " Applying transform\n",
      " Applying transform\n",
      " Applying transform\n"
     ]
    },
    {
     "name": "stderr",
     "output_type": "stream",
     "text": [
      "Training:  31%|███▏      | 5/16 [17:57<38:55, 212.28s/it, Loss=0.2248, Acc=0.8667]"
     ]
    },
    {
     "name": "stdout",
     "output_type": "stream",
     "text": [
      " Applying transform\n",
      " Applying transform\n",
      " Applying transform\n"
     ]
    },
    {
     "name": "stderr",
     "output_type": "stream",
     "text": [
      "Training:  38%|███▊      | 6/16 [21:48<36:28, 218.89s/it, Loss=0.2791, Acc=0.8889]"
     ]
    },
    {
     "name": "stdout",
     "output_type": "stream",
     "text": [
      " Applying transform\n",
      " Applying transform\n",
      " Applying transform\n"
     ]
    },
    {
     "name": "stderr",
     "output_type": "stream",
     "text": [
      "Training:  44%|████▍     | 7/16 [24:59<31:26, 209.61s/it, Loss=1.6357, Acc=0.8095]"
     ]
    },
    {
     "name": "stdout",
     "output_type": "stream",
     "text": [
      " Applying transform\n",
      " Applying transform\n",
      " Applying transform\n"
     ]
    },
    {
     "name": "stderr",
     "output_type": "stream",
     "text": [
      "Training: 100%|██████████| 16/16 [56:14<00:00, 210.90s/it, Loss=0.1764, Acc=0.8750]\n",
      "Validation:   0%|          | 0/5 [00:00<?, ?it/s]"
     ]
    },
    {
     "name": "stdout",
     "output_type": "stream",
     "text": [
      " Applying transform\n",
      " Applying transform\n",
      " Applying transform\n",
      " Applying transform\n",
      " Applying transform\n",
      " Applying transform\n",
      " Applying transform\n",
      " Applying transform\n",
      " Applying transform\n",
      " Applying transform\n",
      " Applying transform\n",
      " Applying transform\n",
      " Applying transform\n"
     ]
    },
    {
     "name": "stderr",
     "output_type": "stream",
     "text": [
      "Validation: 100%|██████████| 5/5 [02:33<00:00, 30.74s/it, Loss=1.0176]\n",
      "/mnt/c/Users/Utkarsh/IMC_classifier/.venv/lib/python3.12/site-packages/sklearn/metrics/_classification.py:1706: UndefinedMetricWarning: Precision is ill-defined and being set to 0.0 in labels with no predicted samples. Use `zero_division` parameter to control this behavior.\n",
      "  _warn_prf(average, modifier, f\"{metric.capitalize()} is\", result.shape[0])\n"
     ]
    },
    {
     "name": "stdout",
     "output_type": "stream",
     "text": [
      "Train Loss: 0.5175, Train Acc: 0.8750\n",
      "Val Loss: 0.5255, Val Acc: 0.8462\n",
      "Val F1: 0.7756\n",
      "\n",
      "Epoch 29/50\n"
     ]
    },
    {
     "name": "stderr",
     "output_type": "stream",
     "text": [
      "Training:   0%|          | 0/16 [00:00<?, ?it/s]"
     ]
    },
    {
     "name": "stdout",
     "output_type": "stream",
     "text": [
      " Applying transform\n",
      " Applying transform\n",
      " Applying transform\n",
      " Applying transform\n",
      " Applying transform\n",
      " Applying transform\n",
      " Applying transform\n",
      " Applying transform\n",
      " Applying transform\n",
      " Applying transform\n",
      " Applying transform\n",
      " Applying transform\n",
      " Applying transform\n",
      " Applying transform\n",
      " Applying transform\n",
      " Applying transform\n",
      " Applying transform\n",
      " Applying transform\n",
      " Applying transform\n",
      " Applying transform\n",
      " Applying transform\n",
      " Applying transform\n",
      " Applying transform\n",
      " Applying transform\n",
      " Applying transform\n",
      " Applying transform\n",
      " Applying transform\n"
     ]
    },
    {
     "name": "stderr",
     "output_type": "stream",
     "text": [
      "Training:   6%|▋         | 1/16 [03:17<49:27, 197.86s/it, Loss=0.9471, Acc=0.6667]"
     ]
    },
    {
     "name": "stdout",
     "output_type": "stream",
     "text": [
      " Applying transform\n",
      " Applying transform\n",
      " Applying transform\n"
     ]
    },
    {
     "name": "stderr",
     "output_type": "stream",
     "text": [
      "Training:  12%|█▎        | 2/16 [07:15<51:36, 221.18s/it, Loss=0.2796, Acc=0.8333]"
     ]
    },
    {
     "name": "stdout",
     "output_type": "stream",
     "text": [
      " Applying transform\n",
      " Applying transform\n",
      " Applying transform\n"
     ]
    },
    {
     "name": "stderr",
     "output_type": "stream",
     "text": [
      "Training:  19%|█▉        | 3/16 [11:21<50:21, 232.42s/it, Loss=0.2048, Acc=0.8889]"
     ]
    },
    {
     "name": "stdout",
     "output_type": "stream",
     "text": [
      " Applying transform\n",
      " Applying transform\n",
      " Applying transform\n"
     ]
    },
    {
     "name": "stderr",
     "output_type": "stream",
     "text": [
      "Training:  25%|██▌       | 4/16 [14:36<43:32, 217.70s/it, Loss=0.2909, Acc=0.9167]"
     ]
    },
    {
     "name": "stdout",
     "output_type": "stream",
     "text": [
      " Applying transform\n",
      " Applying transform\n",
      " Applying transform\n"
     ]
    },
    {
     "name": "stderr",
     "output_type": "stream",
     "text": [
      "Training:  31%|███▏      | 5/16 [17:57<38:50, 211.85s/it, Loss=1.0353, Acc=0.8667]"
     ]
    },
    {
     "name": "stdout",
     "output_type": "stream",
     "text": [
      " Applying transform\n",
      " Applying transform\n",
      " Applying transform\n"
     ]
    },
    {
     "name": "stderr",
     "output_type": "stream",
     "text": [
      "Training:  38%|███▊      | 6/16 [21:54<36:44, 220.44s/it, Loss=1.0123, Acc=0.8333]"
     ]
    },
    {
     "name": "stdout",
     "output_type": "stream",
     "text": [
      " Applying transform\n",
      " Applying transform\n",
      " Applying transform\n"
     ]
    },
    {
     "name": "stderr",
     "output_type": "stream",
     "text": [
      "Training:  44%|████▍     | 7/16 [25:01<31:25, 209.50s/it, Loss=0.2802, Acc=0.8571]"
     ]
    },
    {
     "name": "stdout",
     "output_type": "stream",
     "text": [
      " Applying transform\n",
      " Applying transform\n",
      " Applying transform\n"
     ]
    },
    {
     "name": "stderr",
     "output_type": "stream",
     "text": [
      "Training: 100%|██████████| 16/16 [56:16<00:00, 211.06s/it, Loss=0.2305, Acc=0.8958]\n",
      "Validation:   0%|          | 0/5 [00:00<?, ?it/s]"
     ]
    },
    {
     "name": "stdout",
     "output_type": "stream",
     "text": [
      " Applying transform\n",
      " Applying transform\n",
      " Applying transform\n",
      " Applying transform\n",
      " Applying transform\n",
      " Applying transform\n",
      " Applying transform\n",
      " Applying transform\n",
      " Applying transform\n",
      " Applying transform\n",
      " Applying transform\n",
      " Applying transform\n",
      " Applying transform\n"
     ]
    },
    {
     "name": "stderr",
     "output_type": "stream",
     "text": [
      "Validation: 100%|██████████| 5/5 [02:37<00:00, 31.41s/it, Loss=0.9907]\n",
      "/mnt/c/Users/Utkarsh/IMC_classifier/.venv/lib/python3.12/site-packages/sklearn/metrics/_classification.py:1706: UndefinedMetricWarning: Precision is ill-defined and being set to 0.0 in labels with no predicted samples. Use `zero_division` parameter to control this behavior.\n",
      "  _warn_prf(average, modifier, f\"{metric.capitalize()} is\", result.shape[0])\n"
     ]
    },
    {
     "name": "stdout",
     "output_type": "stream",
     "text": [
      "Train Loss: 0.4976, Train Acc: 0.8958\n",
      "Val Loss: 0.5469, Val Acc: 0.8462\n",
      "Val F1: 0.7756\n",
      "\n",
      "Epoch 30/50\n"
     ]
    },
    {
     "name": "stderr",
     "output_type": "stream",
     "text": [
      "Training:   0%|          | 0/16 [00:00<?, ?it/s]"
     ]
    },
    {
     "name": "stdout",
     "output_type": "stream",
     "text": [
      " Applying transform\n",
      " Applying transform\n",
      " Applying transform\n",
      " Applying transform\n",
      " Applying transform\n",
      " Applying transform\n",
      " Applying transform\n",
      " Applying transform\n",
      " Applying transform\n",
      " Applying transform\n",
      " Applying transform\n",
      " Applying transform\n",
      " Applying transform\n",
      " Applying transform\n",
      " Applying transform\n",
      " Applying transform\n",
      " Applying transform\n",
      " Applying transform\n",
      " Applying transform\n",
      " Applying transform\n",
      " Applying transform\n",
      " Applying transform\n",
      " Applying transform\n",
      " Applying transform\n",
      " Applying transform\n",
      " Applying transform\n",
      " Applying transform\n"
     ]
    },
    {
     "name": "stderr",
     "output_type": "stream",
     "text": [
      "Training:   6%|▋         | 1/16 [03:14<48:33, 194.25s/it, Loss=0.6738, Acc=0.6667]"
     ]
    },
    {
     "name": "stdout",
     "output_type": "stream",
     "text": [
      " Applying transform\n",
      " Applying transform\n",
      " Applying transform\n"
     ]
    },
    {
     "name": "stderr",
     "output_type": "stream",
     "text": [
      "Training:  12%|█▎        | 2/16 [07:15<51:45, 221.85s/it, Loss=1.3216, Acc=0.6667]"
     ]
    },
    {
     "name": "stdout",
     "output_type": "stream",
     "text": [
      " Applying transform\n",
      " Applying transform\n",
      " Applying transform\n"
     ]
    },
    {
     "name": "stderr",
     "output_type": "stream",
     "text": [
      "Training:  19%|█▉        | 3/16 [11:21<50:26, 232.77s/it, Loss=0.2972, Acc=0.6667]"
     ]
    },
    {
     "name": "stdout",
     "output_type": "stream",
     "text": [
      " Applying transform\n",
      " Applying transform\n",
      " Applying transform\n"
     ]
    },
    {
     "name": "stderr",
     "output_type": "stream",
     "text": [
      "Training:  25%|██▌       | 4/16 [14:32<43:17, 216.48s/it, Loss=0.2576, Acc=0.7500]"
     ]
    },
    {
     "name": "stdout",
     "output_type": "stream",
     "text": [
      " Applying transform\n",
      " Applying transform\n",
      " Applying transform\n"
     ]
    },
    {
     "name": "stderr",
     "output_type": "stream",
     "text": [
      "Training:  31%|███▏      | 5/16 [17:57<38:55, 212.34s/it, Loss=0.4932, Acc=0.8000]"
     ]
    },
    {
     "name": "stdout",
     "output_type": "stream",
     "text": [
      " Applying transform\n",
      " Applying transform\n",
      " Applying transform\n"
     ]
    },
    {
     "name": "stderr",
     "output_type": "stream",
     "text": [
      "Training:  38%|███▊      | 6/16 [21:49<36:29, 218.94s/it, Loss=0.2898, Acc=0.8333]"
     ]
    },
    {
     "name": "stdout",
     "output_type": "stream",
     "text": [
      " Applying transform\n",
      " Applying transform\n",
      " Applying transform\n"
     ]
    },
    {
     "name": "stderr",
     "output_type": "stream",
     "text": [
      "Training:  44%|████▍     | 7/16 [25:00<31:28, 209.86s/it, Loss=0.2867, Acc=0.8571]"
     ]
    },
    {
     "name": "stdout",
     "output_type": "stream",
     "text": [
      " Applying transform\n",
      " Applying transform\n",
      " Applying transform\n"
     ]
    },
    {
     "name": "stderr",
     "output_type": "stream",
     "text": [
      "Training: 100%|██████████| 16/16 [56:15<00:00, 210.94s/it, Loss=0.1621, Acc=0.8750]\n",
      "Validation:   0%|          | 0/5 [00:00<?, ?it/s]"
     ]
    },
    {
     "name": "stdout",
     "output_type": "stream",
     "text": [
      " Applying transform\n",
      " Applying transform\n",
      " Applying transform\n",
      " Applying transform\n",
      " Applying transform\n",
      " Applying transform\n",
      " Applying transform\n",
      " Applying transform\n",
      " Applying transform\n",
      " Applying transform\n",
      " Applying transform\n",
      " Applying transform\n",
      " Applying transform\n"
     ]
    },
    {
     "name": "stderr",
     "output_type": "stream",
     "text": [
      "Validation: 100%|██████████| 5/5 [02:33<00:00, 30.77s/it, Loss=0.9165]\n"
     ]
    },
    {
     "name": "stdout",
     "output_type": "stream",
     "text": [
      "Train Loss: 0.4661, Train Acc: 0.8750\n",
      "Val Loss: nan, Val Acc: 0.9231\n",
      "Val F1: 0.9119\n",
      "\n",
      "Epoch 31/50\n"
     ]
    },
    {
     "name": "stderr",
     "output_type": "stream",
     "text": [
      "Training:   0%|          | 0/16 [00:00<?, ?it/s]"
     ]
    },
    {
     "name": "stdout",
     "output_type": "stream",
     "text": [
      " Applying transform\n",
      " Applying transform\n",
      " Applying transform\n",
      " Applying transform\n",
      " Applying transform\n",
      " Applying transform\n",
      " Applying transform\n",
      " Applying transform\n",
      " Applying transform\n",
      " Applying transform\n",
      " Applying transform\n",
      " Applying transform\n",
      " Applying transform\n",
      " Applying transform\n",
      " Applying transform\n",
      " Applying transform\n",
      " Applying transform\n",
      " Applying transform\n",
      " Applying transform\n",
      " Applying transform\n",
      " Applying transform\n",
      " Applying transform\n",
      " Applying transform\n",
      " Applying transform\n",
      " Applying transform\n",
      " Applying transform\n",
      " Applying transform\n"
     ]
    },
    {
     "name": "stderr",
     "output_type": "stream",
     "text": [
      "Training:   6%|▋         | 1/16 [03:26<51:32, 206.14s/it, Loss=1.0247, Acc=0.3333]"
     ]
    },
    {
     "name": "stdout",
     "output_type": "stream",
     "text": [
      " Applying transform\n",
      " Applying transform\n",
      " Applying transform\n"
     ]
    },
    {
     "name": "stderr",
     "output_type": "stream",
     "text": [
      "Training:   6%|▋         | 1/16 [08:03<2:00:52, 483.51s/it, Loss=1.0247, Acc=0.3333]\n"
     ]
    },
    {
     "ename": "KeyboardInterrupt",
     "evalue": "",
     "output_type": "error",
     "traceback": [
      "\u001b[31m---------------------------------------------------------------------------\u001b[39m",
      "\u001b[31mKeyboardInterrupt\u001b[39m                         Traceback (most recent call last)",
      "\u001b[36mCell\u001b[39m\u001b[36m \u001b[39m\u001b[32mIn[25]\u001b[39m\u001b[32m, line 49\u001b[39m\n\u001b[32m     47\u001b[39m     \u001b[38;5;66;03m# Train model\u001b[39;00m\n\u001b[32m     48\u001b[39m \u001b[38;5;28mprint\u001b[39m(\u001b[33m\"\u001b[39m\u001b[33m🚀 Starting training...\u001b[39m\u001b[33m\"\u001b[39m)\n\u001b[32m---> \u001b[39m\u001b[32m49\u001b[39m history = \u001b[43mtrainer\u001b[49m\u001b[43m.\u001b[49m\u001b[43mtrain\u001b[49m\u001b[43m(\u001b[49m\n\u001b[32m     50\u001b[39m \u001b[43m        \u001b[49m\u001b[43mnum_epochs\u001b[49m\u001b[43m=\u001b[49m\u001b[32;43m50\u001b[39;49m\u001b[43m,\u001b[49m\u001b[43m  \u001b[49m\u001b[38;5;66;43;03m# Conservative for initial training\u001b[39;49;00m\n\u001b[32m     51\u001b[39m \u001b[43m        \u001b[49m\u001b[43mfreeze_backbone_epochs\u001b[49m\u001b[43m=\u001b[49m\u001b[32;43m10\u001b[39;49m\n\u001b[32m     52\u001b[39m \u001b[43m    \u001b[49m\u001b[43m)\u001b[49m\n\u001b[32m     54\u001b[39m \u001b[38;5;66;03m# Plot results\u001b[39;00m\n\u001b[32m     55\u001b[39m trainer.plot_training_history()\n",
      "\u001b[36mCell\u001b[39m\u001b[36m \u001b[39m\u001b[32mIn[24]\u001b[39m\u001b[32m, line 218\u001b[39m, in \u001b[36mIMCTrainer.train\u001b[39m\u001b[34m(self, num_epochs, freeze_backbone_epochs)\u001b[39m\n\u001b[32m    215\u001b[39m \u001b[38;5;28mprint\u001b[39m(\u001b[33mf\u001b[39m\u001b[33m\"\u001b[39m\u001b[38;5;130;01m\\n\u001b[39;00m\u001b[33mEpoch \u001b[39m\u001b[38;5;132;01m{\u001b[39;00mepoch+\u001b[32m1\u001b[39m\u001b[38;5;132;01m}\u001b[39;00m\u001b[33m/\u001b[39m\u001b[38;5;132;01m{\u001b[39;00mnum_epochs\u001b[38;5;132;01m}\u001b[39;00m\u001b[33m\"\u001b[39m)\n\u001b[32m    217\u001b[39m \u001b[38;5;66;03m# Train\u001b[39;00m\n\u001b[32m--> \u001b[39m\u001b[32m218\u001b[39m train_loss, train_acc = \u001b[38;5;28;43mself\u001b[39;49m\u001b[43m.\u001b[49m\u001b[43mtrain_epoch\u001b[49m\u001b[43m(\u001b[49m\u001b[43m)\u001b[49m\n\u001b[32m    220\u001b[39m \u001b[38;5;66;03m# Validate\u001b[39;00m\n\u001b[32m    221\u001b[39m val_results = \u001b[38;5;28mself\u001b[39m.validate_epoch()\n",
      "\u001b[36mCell\u001b[39m\u001b[36m \u001b[39m\u001b[32mIn[24]\u001b[39m\u001b[32m, line 91\u001b[39m, in \u001b[36mIMCTrainer.train_epoch\u001b[39m\u001b[34m(self)\u001b[39m\n\u001b[32m     88\u001b[39m     output = \u001b[38;5;28mself\u001b[39m.model(images)\n\u001b[32m     89\u001b[39m     loss = \u001b[38;5;28mself\u001b[39m.criterion(output[\u001b[33m'\u001b[39m\u001b[33mlogits\u001b[39m\u001b[33m'\u001b[39m], labels)\n\u001b[32m---> \u001b[39m\u001b[32m91\u001b[39m \u001b[38;5;28;43mself\u001b[39;49m\u001b[43m.\u001b[49m\u001b[43mscaler\u001b[49m\u001b[43m.\u001b[49m\u001b[43mscale\u001b[49m\u001b[43m(\u001b[49m\u001b[43mloss\u001b[49m\u001b[43m)\u001b[49m\u001b[43m.\u001b[49m\u001b[43mbackward\u001b[49m\u001b[43m(\u001b[49m\u001b[43m)\u001b[49m\n\u001b[32m     92\u001b[39m \u001b[38;5;28mself\u001b[39m.scaler.step(\u001b[38;5;28mself\u001b[39m.optimizer)\n\u001b[32m     93\u001b[39m \u001b[38;5;28mself\u001b[39m.scaler.update()\n",
      "\u001b[36mFile \u001b[39m\u001b[32m/mnt/c/Users/Utkarsh/IMC_classifier/.venv/lib/python3.12/site-packages/torch/_tensor.py:648\u001b[39m, in \u001b[36mTensor.backward\u001b[39m\u001b[34m(self, gradient, retain_graph, create_graph, inputs)\u001b[39m\n\u001b[32m    638\u001b[39m \u001b[38;5;28;01mif\u001b[39;00m has_torch_function_unary(\u001b[38;5;28mself\u001b[39m):\n\u001b[32m    639\u001b[39m     \u001b[38;5;28;01mreturn\u001b[39;00m handle_torch_function(\n\u001b[32m    640\u001b[39m         Tensor.backward,\n\u001b[32m    641\u001b[39m         (\u001b[38;5;28mself\u001b[39m,),\n\u001b[32m   (...)\u001b[39m\u001b[32m    646\u001b[39m         inputs=inputs,\n\u001b[32m    647\u001b[39m     )\n\u001b[32m--> \u001b[39m\u001b[32m648\u001b[39m \u001b[43mtorch\u001b[49m\u001b[43m.\u001b[49m\u001b[43mautograd\u001b[49m\u001b[43m.\u001b[49m\u001b[43mbackward\u001b[49m\u001b[43m(\u001b[49m\n\u001b[32m    649\u001b[39m \u001b[43m    \u001b[49m\u001b[38;5;28;43mself\u001b[39;49m\u001b[43m,\u001b[49m\u001b[43m \u001b[49m\u001b[43mgradient\u001b[49m\u001b[43m,\u001b[49m\u001b[43m \u001b[49m\u001b[43mretain_graph\u001b[49m\u001b[43m,\u001b[49m\u001b[43m \u001b[49m\u001b[43mcreate_graph\u001b[49m\u001b[43m,\u001b[49m\u001b[43m \u001b[49m\u001b[43minputs\u001b[49m\u001b[43m=\u001b[49m\u001b[43minputs\u001b[49m\n\u001b[32m    650\u001b[39m \u001b[43m\u001b[49m\u001b[43m)\u001b[49m\n",
      "\u001b[36mFile \u001b[39m\u001b[32m/mnt/c/Users/Utkarsh/IMC_classifier/.venv/lib/python3.12/site-packages/torch/autograd/__init__.py:353\u001b[39m, in \u001b[36mbackward\u001b[39m\u001b[34m(tensors, grad_tensors, retain_graph, create_graph, grad_variables, inputs)\u001b[39m\n\u001b[32m    348\u001b[39m     retain_graph = create_graph\n\u001b[32m    350\u001b[39m \u001b[38;5;66;03m# The reason we repeat the same comment below is that\u001b[39;00m\n\u001b[32m    351\u001b[39m \u001b[38;5;66;03m# some Python versions print out the first line of a multi-line function\u001b[39;00m\n\u001b[32m    352\u001b[39m \u001b[38;5;66;03m# calls in the traceback and some print out the last line\u001b[39;00m\n\u001b[32m--> \u001b[39m\u001b[32m353\u001b[39m \u001b[43m_engine_run_backward\u001b[49m\u001b[43m(\u001b[49m\n\u001b[32m    354\u001b[39m \u001b[43m    \u001b[49m\u001b[43mtensors\u001b[49m\u001b[43m,\u001b[49m\n\u001b[32m    355\u001b[39m \u001b[43m    \u001b[49m\u001b[43mgrad_tensors_\u001b[49m\u001b[43m,\u001b[49m\n\u001b[32m    356\u001b[39m \u001b[43m    \u001b[49m\u001b[43mretain_graph\u001b[49m\u001b[43m,\u001b[49m\n\u001b[32m    357\u001b[39m \u001b[43m    \u001b[49m\u001b[43mcreate_graph\u001b[49m\u001b[43m,\u001b[49m\n\u001b[32m    358\u001b[39m \u001b[43m    \u001b[49m\u001b[43minputs\u001b[49m\u001b[43m,\u001b[49m\n\u001b[32m    359\u001b[39m \u001b[43m    \u001b[49m\u001b[43mallow_unreachable\u001b[49m\u001b[43m=\u001b[49m\u001b[38;5;28;43;01mTrue\u001b[39;49;00m\u001b[43m,\u001b[49m\n\u001b[32m    360\u001b[39m \u001b[43m    \u001b[49m\u001b[43maccumulate_grad\u001b[49m\u001b[43m=\u001b[49m\u001b[38;5;28;43;01mTrue\u001b[39;49;00m\u001b[43m,\u001b[49m\n\u001b[32m    361\u001b[39m \u001b[43m\u001b[49m\u001b[43m)\u001b[49m\n",
      "\u001b[36mFile \u001b[39m\u001b[32m/mnt/c/Users/Utkarsh/IMC_classifier/.venv/lib/python3.12/site-packages/torch/autograd/graph.py:824\u001b[39m, in \u001b[36m_engine_run_backward\u001b[39m\u001b[34m(t_outputs, *args, **kwargs)\u001b[39m\n\u001b[32m    822\u001b[39m     unregister_hooks = _register_logging_hooks_on_whole_graph(t_outputs)\n\u001b[32m    823\u001b[39m \u001b[38;5;28;01mtry\u001b[39;00m:\n\u001b[32m--> \u001b[39m\u001b[32m824\u001b[39m     \u001b[38;5;28;01mreturn\u001b[39;00m \u001b[43mVariable\u001b[49m\u001b[43m.\u001b[49m\u001b[43m_execution_engine\u001b[49m\u001b[43m.\u001b[49m\u001b[43mrun_backward\u001b[49m\u001b[43m(\u001b[49m\u001b[43m  \u001b[49m\u001b[38;5;66;43;03m# Calls into the C++ engine to run the backward pass\u001b[39;49;00m\n\u001b[32m    825\u001b[39m \u001b[43m        \u001b[49m\u001b[43mt_outputs\u001b[49m\u001b[43m,\u001b[49m\u001b[43m \u001b[49m\u001b[43m*\u001b[49m\u001b[43margs\u001b[49m\u001b[43m,\u001b[49m\u001b[43m \u001b[49m\u001b[43m*\u001b[49m\u001b[43m*\u001b[49m\u001b[43mkwargs\u001b[49m\n\u001b[32m    826\u001b[39m \u001b[43m    \u001b[49m\u001b[43m)\u001b[49m  \u001b[38;5;66;03m# Calls into the C++ engine to run the backward pass\u001b[39;00m\n\u001b[32m    827\u001b[39m \u001b[38;5;28;01mfinally\u001b[39;00m:\n\u001b[32m    828\u001b[39m     \u001b[38;5;28;01mif\u001b[39;00m attach_logging_hooks:\n",
      "\u001b[31mKeyboardInterrupt\u001b[39m: "
     ]
    }
   ],
   "source": [
    "device = 'cuda' if torch.cuda.is_available() else 'mps'\n",
    "\n",
    "print(f\"using{device}\")\n",
    "\n",
    "batch_size = 3\n",
    "image_size = (256,256)\n",
    "\n",
    "print(\"loading data\")\n",
    "\n",
    "train_loader,val_loader,dataset_info = create_dataloaders(\n",
    "    data_dir='./data',\n",
    "    classification_task = 'condition',\n",
    "    batch_size=batch_size,\n",
    "    image_size=image_size,\n",
    "    arcsinh_transform=True,\n",
    "    cofactor=5.0,\n",
    "    train_split=0.8,\n",
    "    num_workers=4,\n",
    "   \n",
    "\n",
    ")\n",
    "\n",
    "model = create_simple_model(\n",
    "    num_markers=62,\n",
    "    num_classes=dataset_info['num_classes'],\n",
    "    pretrained=True,\n",
    "    shared_backbone=True,\n",
    "    feature_dim=64,\n",
    "    dropout_rate=0.6,\n",
    "    device=device\n",
    ")\n",
    "    \n",
    "    # Create trainer\n",
    "trainer = IMCTrainer(\n",
    "        model=model,\n",
    "        train_loader=train_loader,\n",
    "        val_loader=val_loader,\n",
    "        dataset_info=dataset_info,\n",
    "        device=device,\n",
    "        learning_rate=1e-3,\n",
    "        weight_decay=1e-4,\n",
    "        use_class_weights=True,\n",
    "        use_mixed_precision=True,\n",
    "        save_dir='./checkpoints'\n",
    "    )\n",
    "    \n",
    "    # Train model\n",
    "print(\"🚀 Starting training...\")\n",
    "history = trainer.train(\n",
    "        num_epochs=50,  # Conservative for initial training\n",
    "        freeze_backbone_epochs=10\n",
    "    )\n",
    "    \n",
    "# Plot results\n",
    "trainer.plot_training_history()\n",
    "    \n",
    "# Save final results\n",
    "results_path = trainer.save_dir / 'final_results.json'\n",
    "with open(results_path, 'w') as f:\n",
    "    json.dump({\n",
    "        'best_val_accuracy': trainer.best_val_acc,\n",
    "        'dataset_info': {k: v.tolist() if isinstance(v, torch.Tensor) else v \n",
    "                       for k, v in dataset_info.items()},\n",
    "        'final_epoch': len(history['train_loss'])\n",
    "    }, f, indent=2)\n",
    "\n",
    "print(f\"Final results saved to: {results_path}\")\n",
    "print(f\"Best model saved to: {trainer.best_model_path}\")"
   ]
  },
  {
   "cell_type": "code",
   "execution_count": 26,
   "id": "dd72d911",
   "metadata": {},
   "outputs": [
    {
     "data": {
      "image/png": "[encoded data removed]",
      "text/plain": [
       "<Figure size 1500x1000 with 4 Axes>"
      ]
     },
     "metadata": {},
     "output_type": "display_data"
    }
   ],
   "source": [
    "trainer.plot_training_history()  "
   ]
  },
  {
   "cell_type": "code",
   "execution_count": 30,
   "id": "d6c36fd4",
   "metadata": {},
   "outputs": [
    {
     "name": "stdout",
     "output_type": "stream",
     "text": [
      "Loading model from provided checkpoint: ./checkpoints/best_frozen_epoch_7.pth\n",
      "Generating predictions on validation set...\n"
     ]
    },
    {
     "name": "stderr",
     "output_type": "stream",
     "text": [
      "Validation:   0%|          | 0/5 [00:00<?, ?it/s]"
     ]
    },
    {
     "name": "stdout",
     "output_type": "stream",
     "text": [
      " Applying transform\n",
      " Applying transform\n",
      " Applying transform\n",
      " Applying transform\n",
      " Applying transform\n",
      " Applying transform\n",
      " Applying transform\n",
      " Applying transform\n",
      " Applying transform\n",
      " Applying transform\n",
      " Applying transform\n",
      " Applying transform\n",
      " Applying transform\n"
     ]
    },
    {
     "name": "stderr",
     "output_type": "stream",
     "text": [
      "Validation: 100%|██████████| 5/5 [01:12<00:00, 14.42s/it, Loss=1.9092]\n",
      "/mnt/c/Users/Utkarsh/IMC_classifier/.venv/lib/python3.12/site-packages/sklearn/metrics/_classification.py:1706: UndefinedMetricWarning: Precision is ill-defined and being set to 0.0 in labels with no predicted samples. Use `zero_division` parameter to control this behavior.\n",
      "  _warn_prf(average, modifier, f\"{metric.capitalize()} is\", result.shape[0])\n"
     ]
    },
    {
     "name": "stdout",
     "output_type": "stream",
     "text": [
      "Confusion matrix saved to: checkpoints/confusion_matrix.png\n"
     ]
    },
    {
     "data": {
      "image/png": "[encoded data removed]",
      "text/plain": [
       "<Figure size 1200x1000 with 2 Axes>"
      ]
     },
     "metadata": {},
     "output_type": "display_data"
    },
    {
     "name": "stdout",
     "output_type": "stream",
     "text": [
      "\n",
      "Classification Report:\n",
      "============================================================\n",
      "              precision    recall  f1-score   support\n",
      "\n",
      "      Benign     0.0000    0.0000    0.0000         2\n",
      "   Malignant     0.8462    1.0000    0.9167        11\n",
      "\n",
      "    accuracy                         0.8462        13\n",
      "   macro avg     0.4231    0.5000    0.4583        13\n",
      "weighted avg     0.7160    0.8462    0.7756        13\n",
      "\n",
      "\n",
      "Misclassification Analysis:\n",
      "============================================================\n",
      "Top 10 most common misclassifications:\n",
      " 1. Benign → Malignant: 2 errors (100.0% of Benign)\n",
      "\n",
      "Per-class error rates:\n",
      "Benign: 100.0% error rate (2/2)\n",
      "Malignant: 0.0% error rate (0/11)\n"
     ]
    },
    {
     "name": "stderr",
     "output_type": "stream",
     "text": [
      "/mnt/c/Users/Utkarsh/IMC_classifier/.venv/lib/python3.12/site-packages/sklearn/metrics/_classification.py:1706: UndefinedMetricWarning: Precision is ill-defined and being set to 0.0 in labels with no predicted samples. Use `zero_division` parameter to control this behavior.\n",
      "  _warn_prf(average, modifier, f\"{metric.capitalize()} is\", result.shape[0])\n",
      "/mnt/c/Users/Utkarsh/IMC_classifier/.venv/lib/python3.12/site-packages/sklearn/metrics/_classification.py:1706: UndefinedMetricWarning: Precision is ill-defined and being set to 0.0 in labels with no predicted samples. Use `zero_division` parameter to control this behavior.\n",
      "  _warn_prf(average, modifier, f\"{metric.capitalize()} is\", result.shape[0])\n",
      "/mnt/c/Users/Utkarsh/IMC_classifier/.venv/lib/python3.12/site-packages/sklearn/metrics/_classification.py:1706: UndefinedMetricWarning: Precision is ill-defined and being set to 0.0 in labels with no predicted samples. Use `zero_division` parameter to control this behavior.\n",
      "  _warn_prf(average, modifier, f\"{metric.capitalize()} is\", result.shape[0])\n"
     ]
    }
   ],
   "source": [
    "import numpy as np\n",
    "import matplotlib.pyplot as plt\n",
    "import seaborn as sns\n",
    "from sklearn.metrics import confusion_matrix, classification_report\n",
    "import torch\n",
    "from pathlib import Path\n",
    "\n",
    "def generate_confusion_matrix(trainer, save_dir=None, checkpoint_path=None):\n",
    "    \"\"\"\n",
    "    Generate confusion matrix for the trained model\n",
    "    \n",
    "    Args:\n",
    "        trainer: Your trained IMCTrainer instance\n",
    "        save_dir: Directory to save the confusion matrix plot\n",
    "        checkpoint_path: Optional path to specific checkpoint file\n",
    "    \"\"\"\n",
    "    if save_dir is None:\n",
    "        save_dir = trainer.save_dir\n",
    "    \n",
    "    # Try to load the best model or any available checkpoint\n",
    "    model_loaded = False\n",
    "    \n",
    "    # Option 1: Use provided checkpoint path\n",
    "    if checkpoint_path and Path(checkpoint_path).exists():\n",
    "        print(f\"Loading model from provided checkpoint: {checkpoint_path}\")\n",
    "        checkpoint = torch.load(checkpoint_path, map_location=trainer.device, weights_only=False)\n",
    "        trainer.model.load_state_dict(checkpoint['model_state_dict'])\n",
    "        model_loaded = True\n",
    "    \n",
    "    # Option 2: Use trainer's best model path\n",
    "    elif trainer.best_model_path and trainer.best_model_path.exists():\n",
    "        print(f\"Loading best model from: {trainer.best_model_path}\")\n",
    "        checkpoint = torch.load(trainer.best_model_path, map_location=trainer.device, weights_only=False)\n",
    "        trainer.model.load_state_dict(checkpoint['model_state_dict'])\n",
    "        model_loaded = True\n",
    "    \n",
    "    # Option 3: Look for any checkpoint in the save directory\n",
    "    elif trainer.save_dir.exists():\n",
    "        checkpoint_files = list(trainer.save_dir.glob(\"*.pth\"))\n",
    "        if checkpoint_files:\n",
    "            # Use the most recent checkpoint\n",
    "            latest_checkpoint = max(checkpoint_files, key=lambda p: p.stat().st_mtime)\n",
    "            print(f\"Loading latest checkpoint found: {latest_checkpoint}\")\n",
    "            checkpoint = torch.load(latest_checkpoint, map_location=trainer.device, weights_only=False)\n",
    "            trainer.model.load_state_dict(checkpoint['model_state_dict'])\n",
    "            model_loaded = True\n",
    "    \n",
    "    # Option 4: Use current model state (if no checkpoints available)\n",
    "    if not model_loaded:\n",
    "        print(\"⚠️  No checkpoints found - using current model state\")\n",
    "        print(\"   (Results may not be optimal if training was interrupted early)\")\n",
    "    \n",
    "    # Get validation predictions\n",
    "    print(\"Generating predictions on validation set...\")\n",
    "    val_results = trainer.validate_epoch()\n",
    "    \n",
    "    y_true = val_results['labels']\n",
    "    y_pred = val_results['predictions']\n",
    "    \n",
    "    # Get class names if available\n",
    "    class_names = None\n",
    "    if 'class_names' in trainer.dataset_info:\n",
    "        class_names = trainer.dataset_info['class_names']\n",
    "    elif 'label_to_class' in trainer.dataset_info:\n",
    "        # Create class names from label mapping\n",
    "        label_to_class = trainer.dataset_info['label_to_class']\n",
    "        class_names = [label_to_class[i] for i in range(len(label_to_class))]\n",
    "    else:\n",
    "        # Default to class indices\n",
    "        class_names = [f'Class {i}' for i in range(trainer.dataset_info['num_classes'])]\n",
    "    \n",
    "    # Create confusion matrix\n",
    "    cm = confusion_matrix(y_true, y_pred)\n",
    "    \n",
    "    # Create the plot\n",
    "    plt.figure(figsize=(12, 10))\n",
    "    \n",
    "    # Plot confusion matrix\n",
    "    sns.heatmap(cm, \n",
    "                annot=True, \n",
    "                fmt='d', \n",
    "                cmap='Blues',\n",
    "                xticklabels=class_names,\n",
    "                yticklabels=class_names,\n",
    "                cbar_kws={'label': 'Count'})\n",
    "    \n",
    "    plt.title('Confusion Matrix', fontsize=16, fontweight='bold')\n",
    "    plt.xlabel('Predicted Label', fontsize=12)\n",
    "    plt.ylabel('True Label', fontsize=12)\n",
    "    plt.xticks(rotation=45, ha='right')\n",
    "    plt.yticks(rotation=0)\n",
    "    \n",
    "    # Add accuracy to the plot\n",
    "    accuracy = val_results['accuracy']\n",
    "    plt.figtext(0.02, 0.02, f'Overall Accuracy: {accuracy:.4f}', \n",
    "                fontsize=10, ha='left')\n",
    "    \n",
    "    plt.tight_layout()\n",
    "    \n",
    "    # Save the plot\n",
    "    save_path = Path(save_dir) / 'confusion_matrix.png'\n",
    "    plt.savefig(save_path, dpi=300, bbox_inches='tight')\n",
    "    print(f\"Confusion matrix saved to: {save_path}\")\n",
    "    \n",
    "    plt.show()\n",
    "    \n",
    "    # Print classification report\n",
    "    print(\"\\nClassification Report:\")\n",
    "    print(\"=\" * 60)\n",
    "    report = classification_report(y_true, y_pred, \n",
    "                                 target_names=class_names, \n",
    "                                 digits=4)\n",
    "    print(report)\n",
    "    \n",
    "    # Analyze misclassifications\n",
    "    print(\"\\nMisclassification Analysis:\")\n",
    "    print(\"=\" * 60)\n",
    "    analyze_misclassifications(cm, class_names, y_true, y_pred)\n",
    "    \n",
    "    return cm, y_true, y_pred\n",
    "\n",
    "def analyze_misclassifications(cm, class_names, y_true, y_pred):\n",
    "    \"\"\"\n",
    "    Analyze and report the most common misclassifications\n",
    "    \"\"\"\n",
    "    num_classes = len(class_names)\n",
    "    \n",
    "    # Find most confused pairs\n",
    "    confused_pairs = []\n",
    "    for i in range(num_classes):\n",
    "        for j in range(num_classes):\n",
    "            if i != j and cm[i, j] > 0:\n",
    "                confused_pairs.append((i, j, cm[i, j]))\n",
    "    \n",
    "    # Sort by confusion count\n",
    "    confused_pairs.sort(key=lambda x: x[2], reverse=True)\n",
    "    \n",
    "    print(\"Top 10 most common misclassifications:\")\n",
    "    for i, (true_idx, pred_idx, count) in enumerate(confused_pairs[:10]):\n",
    "        true_class = class_names[true_idx]\n",
    "        pred_class = class_names[pred_idx]\n",
    "        total_true = cm[true_idx, :].sum()\n",
    "        error_rate = (count / total_true) * 100\n",
    "        print(f\"{i+1:2d}. {true_class} → {pred_class}: {count} errors ({error_rate:.1f}% of {true_class})\")\n",
    "    \n",
    "    # Class-wise error analysis\n",
    "    print(f\"\\nPer-class error rates:\")\n",
    "    for i, class_name in enumerate(class_names):\n",
    "        total_samples = cm[i, :].sum()\n",
    "        correct_samples = cm[i, i]\n",
    "        error_rate = ((total_samples - correct_samples) / total_samples) * 100\n",
    "        print(f\"{class_name}: {error_rate:.1f}% error rate ({total_samples - correct_samples}/{total_samples})\")\n",
    "\n",
    "def plot_normalized_confusion_matrix(cm, class_names, save_dir=None):\n",
    "    \"\"\"\n",
    "    Plot normalized confusion matrix (percentages)\n",
    "    \"\"\"\n",
    "    # Normalize by row (true labels)\n",
    "    cm_normalized = cm.astype('float') / cm.sum(axis=1)[:, np.newaxis]\n",
    "    \n",
    "    plt.figure(figsize=(12, 10))\n",
    "    \n",
    "    sns.heatmap(cm_normalized, \n",
    "                annot=True, \n",
    "                fmt='.3f', \n",
    "                cmap='Blues',\n",
    "                xticklabels=class_names,\n",
    "                yticklabels=class_names,\n",
    "                cbar_kws={'label': 'Proportion'})\n",
    "    \n",
    "    plt.title('Normalized Confusion Matrix (Row-wise)', fontsize=16, fontweight='bold')\n",
    "    plt.xlabel('Predicted Label', fontsize=12)\n",
    "    plt.ylabel('True Label', fontsize=12)\n",
    "    plt.xticks(rotation=45, ha='right')\n",
    "    plt.yticks(rotation=0)\n",
    "    \n",
    "    plt.tight_layout()\n",
    "    \n",
    "    if save_dir:\n",
    "        save_path = Path(save_dir) / 'confusion_matrix_normalized.png'\n",
    "        plt.savefig(save_path, dpi=300, bbox_inches='tight')\n",
    "        print(f\"Normalized confusion matrix saved to: {save_path}\")\n",
    "    \n",
    "    plt.show()\n",
    "\n",
    "# Usage examples for different scenarios:\n",
    "\n",
    "# Scenario 1: Training completed normally\n",
    "\"\"\"\n",
    "print(\"Generating confusion matrix...\")\n",
    "cm, y_true, y_pred = generate_confusion_matrix(trainer)\n",
    "\"\"\"\n",
    "# Scenario 2: Training was interrupted, but you have your trainer object\n",
    "\"\"\"\n",
    "# This will automatically find and load the best available checkpoint\n",
    "print(\"Generating confusion matrix from interrupted training...\")\n",
    "cm, y_true, y_pred = generate_confusion_matrix(trainer)\n",
    "\"\"\"\n",
    "\n",
    "# Scenario 3: You want to use a specific checkpoint\n",
    "\"\"\"\n",
    "# Point to a specific checkpoint file\n",
    "checkpoint_path = \"./checkpoints/best_frozen_epoch_5.pth\"\n",
    "print(\"Generating confusion matrix from specific checkpoint...\")\n",
    "cm, y_true, y_pred = generate_confusion_matrix(trainer, checkpoint_path=checkpoint_path)\n",
    "\"\"\"\n",
    "\n",
    "# Scenario 4: You need to recreate everything from scratch\n",
    "\"\"\"\n",
    "# If you lost your trainer object, you can recreate it and load a checkpoint\n",
    "model = create_simple_model(\n",
    "    num_markers=62,\n",
    "    num_classes=dataset_info['num_classes'],\n",
    "    pretrained=True,\n",
    "    shared_backbone=True,\n",
    "    feature_dim=64,\n",
    "    dropout_rate=0.6,\n",
    "    device=device\n",
    ")\n",
    "\n",
    "trainer = IMCTrainer(\n",
    "    model=model,\n",
    "    train_loader=train_loader,\n",
    "    val_loader=val_loader,\n",
    "    dataset_info=dataset_info,\n",
    "    device=device,\n",
    "    save_dir='./checkpoints'\n",
    ")\n",
    "\"\"\"\n",
    " #Load specific checkpoint\n",
    "checkpoint_path = \"./checkpoints/best_frozen_epoch_7.pth\"\n",
    "cm, y_true, y_pred = generate_confusion_matrix(trainer, checkpoint_path=checkpoint_path)\n"
   ]
  }
 ],
 "metadata": {
  "kernelspec": {
   "display_name": ".venv",
   "language": "python",
   "name": "python3"
  },
  "language_info": {
   "codemirror_mode": {
    "name": "ipython",
    "version": 3
   },
   "file_extension": ".py",
   "mimetype": "text/x-python",
   "name": "python",
   "nbconvert_exporter": "python",
   "pygments_lexer": "ipython3",
   "version": "3.12.3"
  }
 },
 "nbformat": 4,
 "nbformat_minor": 5
}
